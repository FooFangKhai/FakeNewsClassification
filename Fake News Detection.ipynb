{
 "cells": [
  {
   "cell_type": "markdown",
   "id": "61874555",
   "metadata": {},
   "source": [
    "### Fake News Detection\n",
    "\n",
    "- Student Name: Foo Fang Khai\n",
    "- Student ID: 0134196"
   ]
  },
  {
   "cell_type": "markdown",
   "id": "2245cfb6",
   "metadata": {},
   "source": [
    "#### Project Flow:\n",
    "1. Problem Statement\n",
    "2. Data Gathering\n",
    "3. Data Cleaning\n",
    "4. Data Preprocessing:\n",
    "    - Tokenization\n",
    "    - Lower Case\n",
    "    - Stopwords\n",
    "    - Lemmatization /Stemming\n",
    "5. Vectorization\n",
    "    - TF-IDF\n",
    "6. Model Building\n",
    "    - Train Test Split\n",
    "    - Model Object Initialization\n",
    "    - Training and Testing of Model\n",
    "7. Model Evaluation\n",
    "    - Accuracy Score\n",
    "    - Confusion Matrix\n",
    "    - Classification Report\n",
    "8. Prediction On Given Data\n",
    "9. Keyword Extraction\n",
    "    - Data Preprocessing\n",
    "        - Regular Expression\n",
    "        - Lower Case\n",
    "    - Creating IDF\n",
    "    - TfidfTransformer (Use For Computing IDF)\n",
    "    - Computing TF-IDF\n",
    "10. Deployment of Model"
   ]
  },
  {
   "cell_type": "markdown",
   "id": "d5b6a86c",
   "metadata": {},
   "source": [
    "## Problem Statement\n",
    "\n",
    "In the realm of natural language processing, the detection of fake news is a popular topic. In our everyday routine, we absorb news through a variety of sources, but occasionally it can be challenging to distinguish between fake and real news. This research compares two models based on how well they predict whether a given piece of news is true or false and how well they extract keywords from the news"
   ]
  },
  {
   "cell_type": "markdown",
   "id": "f1bf91b2",
   "metadata": {},
   "source": [
    "## Data Gathering"
   ]
  },
  {
   "cell_type": "code",
   "execution_count": 58,
   "id": "400358c7",
   "metadata": {},
   "outputs": [],
   "source": [
    "# Import Libraries Needed\n",
    "\n",
    "import pandas as pd\n",
    "import numpy as np\n",
    "import re\n",
    "import pickle\n",
    "import nltk\n",
    "import seaborn as sns\n",
    "import matplotlib.pyplot as plt\n",
    "from nltk.corpus import stopwords\n",
    "from nltk.stem import PorterStemmer, WordNetLemmatizer\n",
    "from sklearn.linear_model import LogisticRegression\n",
    "from sklearn.model_selection import train_test_split\n",
    "from sklearn.ensemble import RandomForestClassifier\n",
    "from sklearn.feature_extraction.text import CountVectorizer\n",
    "from sklearn.feature_extraction.text import TfidfTransformer\n",
    "from sklearn.tree import DecisionTreeClassifier\n",
    "from sklearn.feature_extraction.text import TfidfVectorizer\n",
    "from sklearn.metrics import accuracy_score, confusion_matrix, classification_report"
   ]
  },
  {
   "cell_type": "code",
   "execution_count": 2,
   "id": "5660b0c5",
   "metadata": {},
   "outputs": [],
   "source": [
    "# Load dataset which consists of 4 columns, Unnamed: 0 (non-effective variable), title, text, and label\n",
    "# While a dataset with title, text, and labels is crucial for fake news detection, it's not exclusive to this task\n",
    "# The title and text provide the necessary textual context, and labels guide the model's learning process\n",
    "\n",
    "data = pd.read_csv(\"/Users/_fangkhai/Documents/Academic/Computer Science Semester 7/Natural Language Processing/Assignment Dataset/WELFake_Dataset.csv\")"
   ]
  },
  {
   "cell_type": "code",
   "execution_count": 3,
   "id": "53a6e5a1",
   "metadata": {
    "scrolled": false
   },
   "outputs": [
    {
     "data": {
      "text/html": [
       "<div>\n",
       "<style scoped>\n",
       "    .dataframe tbody tr th:only-of-type {\n",
       "        vertical-align: middle;\n",
       "    }\n",
       "\n",
       "    .dataframe tbody tr th {\n",
       "        vertical-align: top;\n",
       "    }\n",
       "\n",
       "    .dataframe thead th {\n",
       "        text-align: right;\n",
       "    }\n",
       "</style>\n",
       "<table border=\"1\" class=\"dataframe\">\n",
       "  <thead>\n",
       "    <tr style=\"text-align: right;\">\n",
       "      <th></th>\n",
       "      <th>Unnamed: 0</th>\n",
       "      <th>title</th>\n",
       "      <th>text</th>\n",
       "      <th>label</th>\n",
       "    </tr>\n",
       "  </thead>\n",
       "  <tbody>\n",
       "    <tr>\n",
       "      <th>0</th>\n",
       "      <td>0</td>\n",
       "      <td>LAW ENFORCEMENT ON HIGH ALERT Following Threat...</td>\n",
       "      <td>No comment is expected from Barack Obama Membe...</td>\n",
       "      <td>1</td>\n",
       "    </tr>\n",
       "    <tr>\n",
       "      <th>1</th>\n",
       "      <td>1</td>\n",
       "      <td>NaN</td>\n",
       "      <td>Did they post their votes for Hillary already?</td>\n",
       "      <td>1</td>\n",
       "    </tr>\n",
       "    <tr>\n",
       "      <th>2</th>\n",
       "      <td>2</td>\n",
       "      <td>UNBELIEVABLE! OBAMA’S ATTORNEY GENERAL SAYS MO...</td>\n",
       "      <td>Now, most of the demonstrators gathered last ...</td>\n",
       "      <td>1</td>\n",
       "    </tr>\n",
       "    <tr>\n",
       "      <th>3</th>\n",
       "      <td>3</td>\n",
       "      <td>Bobby Jindal, raised Hindu, uses story of Chri...</td>\n",
       "      <td>A dozen politically active pastors came here f...</td>\n",
       "      <td>0</td>\n",
       "    </tr>\n",
       "    <tr>\n",
       "      <th>4</th>\n",
       "      <td>4</td>\n",
       "      <td>SATAN 2: Russia unvelis an image of its terrif...</td>\n",
       "      <td>The RS-28 Sarmat missile, dubbed Satan 2, will...</td>\n",
       "      <td>1</td>\n",
       "    </tr>\n",
       "    <tr>\n",
       "      <th>...</th>\n",
       "      <td>...</td>\n",
       "      <td>...</td>\n",
       "      <td>...</td>\n",
       "      <td>...</td>\n",
       "    </tr>\n",
       "    <tr>\n",
       "      <th>72129</th>\n",
       "      <td>72129</td>\n",
       "      <td>Russians steal research on Trump in hack of U....</td>\n",
       "      <td>WASHINGTON (Reuters) - Hackers believed to be ...</td>\n",
       "      <td>0</td>\n",
       "    </tr>\n",
       "    <tr>\n",
       "      <th>72130</th>\n",
       "      <td>72130</td>\n",
       "      <td>WATCH: Giuliani Demands That Democrats Apolog...</td>\n",
       "      <td>You know, because in fantasyland Republicans n...</td>\n",
       "      <td>1</td>\n",
       "    </tr>\n",
       "    <tr>\n",
       "      <th>72131</th>\n",
       "      <td>72131</td>\n",
       "      <td>Migrants Refuse To Leave Train At Refugee Camp...</td>\n",
       "      <td>Migrants Refuse To Leave Train At Refugee Camp...</td>\n",
       "      <td>0</td>\n",
       "    </tr>\n",
       "    <tr>\n",
       "      <th>72132</th>\n",
       "      <td>72132</td>\n",
       "      <td>Trump tussle gives unpopular Mexican leader mu...</td>\n",
       "      <td>MEXICO CITY (Reuters) - Donald Trump’s combati...</td>\n",
       "      <td>0</td>\n",
       "    </tr>\n",
       "    <tr>\n",
       "      <th>72133</th>\n",
       "      <td>72133</td>\n",
       "      <td>Goldman Sachs Endorses Hillary Clinton For Pre...</td>\n",
       "      <td>Goldman Sachs Endorses Hillary Clinton For Pre...</td>\n",
       "      <td>1</td>\n",
       "    </tr>\n",
       "  </tbody>\n",
       "</table>\n",
       "<p>72134 rows × 4 columns</p>\n",
       "</div>"
      ],
      "text/plain": [
       "       Unnamed: 0                                              title  \\\n",
       "0               0  LAW ENFORCEMENT ON HIGH ALERT Following Threat...   \n",
       "1               1                                                NaN   \n",
       "2               2  UNBELIEVABLE! OBAMA’S ATTORNEY GENERAL SAYS MO...   \n",
       "3               3  Bobby Jindal, raised Hindu, uses story of Chri...   \n",
       "4               4  SATAN 2: Russia unvelis an image of its terrif...   \n",
       "...           ...                                                ...   \n",
       "72129       72129  Russians steal research on Trump in hack of U....   \n",
       "72130       72130   WATCH: Giuliani Demands That Democrats Apolog...   \n",
       "72131       72131  Migrants Refuse To Leave Train At Refugee Camp...   \n",
       "72132       72132  Trump tussle gives unpopular Mexican leader mu...   \n",
       "72133       72133  Goldman Sachs Endorses Hillary Clinton For Pre...   \n",
       "\n",
       "                                                    text  label  \n",
       "0      No comment is expected from Barack Obama Membe...      1  \n",
       "1         Did they post their votes for Hillary already?      1  \n",
       "2       Now, most of the demonstrators gathered last ...      1  \n",
       "3      A dozen politically active pastors came here f...      0  \n",
       "4      The RS-28 Sarmat missile, dubbed Satan 2, will...      1  \n",
       "...                                                  ...    ...  \n",
       "72129  WASHINGTON (Reuters) - Hackers believed to be ...      0  \n",
       "72130  You know, because in fantasyland Republicans n...      1  \n",
       "72131  Migrants Refuse To Leave Train At Refugee Camp...      0  \n",
       "72132  MEXICO CITY (Reuters) - Donald Trump’s combati...      0  \n",
       "72133  Goldman Sachs Endorses Hillary Clinton For Pre...      1  \n",
       "\n",
       "[72134 rows x 4 columns]"
      ]
     },
     "execution_count": 3,
     "metadata": {},
     "output_type": "execute_result"
    }
   ],
   "source": [
    "data"
   ]
  },
  {
   "cell_type": "markdown",
   "id": "021ac75f",
   "metadata": {},
   "source": [
    "## Data Cleaning"
   ]
  },
  {
   "cell_type": "code",
   "execution_count": 4,
   "id": "e9f5a7ef",
   "metadata": {},
   "outputs": [
    {
     "data": {
      "text/html": [
       "<div>\n",
       "<style scoped>\n",
       "    .dataframe tbody tr th:only-of-type {\n",
       "        vertical-align: middle;\n",
       "    }\n",
       "\n",
       "    .dataframe tbody tr th {\n",
       "        vertical-align: top;\n",
       "    }\n",
       "\n",
       "    .dataframe thead th {\n",
       "        text-align: right;\n",
       "    }\n",
       "</style>\n",
       "<table border=\"1\" class=\"dataframe\">\n",
       "  <thead>\n",
       "    <tr style=\"text-align: right;\">\n",
       "      <th></th>\n",
       "      <th>Unnamed: 0</th>\n",
       "      <th>label</th>\n",
       "    </tr>\n",
       "  </thead>\n",
       "  <tbody>\n",
       "    <tr>\n",
       "      <th>count</th>\n",
       "      <td>72134.000000</td>\n",
       "      <td>72134.000000</td>\n",
       "    </tr>\n",
       "    <tr>\n",
       "      <th>mean</th>\n",
       "      <td>36066.500000</td>\n",
       "      <td>0.514404</td>\n",
       "    </tr>\n",
       "    <tr>\n",
       "      <th>std</th>\n",
       "      <td>20823.436496</td>\n",
       "      <td>0.499796</td>\n",
       "    </tr>\n",
       "    <tr>\n",
       "      <th>min</th>\n",
       "      <td>0.000000</td>\n",
       "      <td>0.000000</td>\n",
       "    </tr>\n",
       "    <tr>\n",
       "      <th>25%</th>\n",
       "      <td>18033.250000</td>\n",
       "      <td>0.000000</td>\n",
       "    </tr>\n",
       "    <tr>\n",
       "      <th>50%</th>\n",
       "      <td>36066.500000</td>\n",
       "      <td>1.000000</td>\n",
       "    </tr>\n",
       "    <tr>\n",
       "      <th>75%</th>\n",
       "      <td>54099.750000</td>\n",
       "      <td>1.000000</td>\n",
       "    </tr>\n",
       "    <tr>\n",
       "      <th>max</th>\n",
       "      <td>72133.000000</td>\n",
       "      <td>1.000000</td>\n",
       "    </tr>\n",
       "  </tbody>\n",
       "</table>\n",
       "</div>"
      ],
      "text/plain": [
       "         Unnamed: 0         label\n",
       "count  72134.000000  72134.000000\n",
       "mean   36066.500000      0.514404\n",
       "std    20823.436496      0.499796\n",
       "min        0.000000      0.000000\n",
       "25%    18033.250000      0.000000\n",
       "50%    36066.500000      1.000000\n",
       "75%    54099.750000      1.000000\n",
       "max    72133.000000      1.000000"
      ]
     },
     "execution_count": 4,
     "metadata": {},
     "output_type": "execute_result"
    }
   ],
   "source": [
    "# Use .describe() function to have a deeper analysis of our dataset\n",
    "\n",
    "data.describe()"
   ]
  },
  {
   "cell_type": "code",
   "execution_count": 5,
   "id": "6916c861",
   "metadata": {},
   "outputs": [
    {
     "name": "stdout",
     "output_type": "stream",
     "text": [
      "<class 'pandas.core.frame.DataFrame'>\n",
      "RangeIndex: 72134 entries, 0 to 72133\n",
      "Data columns (total 4 columns):\n",
      " #   Column      Non-Null Count  Dtype \n",
      "---  ------      --------------  ----- \n",
      " 0   Unnamed: 0  72134 non-null  int64 \n",
      " 1   title       71576 non-null  object\n",
      " 2   text        72095 non-null  object\n",
      " 3   label       72134 non-null  int64 \n",
      "dtypes: int64(2), object(2)\n",
      "memory usage: 2.2+ MB\n"
     ]
    }
   ],
   "source": [
    "# Use .info() function to have a deeper analysis of our dataset\n",
    "\n",
    "data.info()"
   ]
  },
  {
   "cell_type": "code",
   "execution_count": 6,
   "id": "f4b0a1f1",
   "metadata": {},
   "outputs": [],
   "source": [
    "# Drop non-effective variables for analysis purpose such as Unnamed: 0\n",
    "\n",
    "data.drop(columns = \"Unnamed: 0\", inplace = True)"
   ]
  },
  {
   "cell_type": "code",
   "execution_count": 7,
   "id": "82962f5a",
   "metadata": {},
   "outputs": [
    {
     "data": {
      "text/html": [
       "<div>\n",
       "<style scoped>\n",
       "    .dataframe tbody tr th:only-of-type {\n",
       "        vertical-align: middle;\n",
       "    }\n",
       "\n",
       "    .dataframe tbody tr th {\n",
       "        vertical-align: top;\n",
       "    }\n",
       "\n",
       "    .dataframe thead th {\n",
       "        text-align: right;\n",
       "    }\n",
       "</style>\n",
       "<table border=\"1\" class=\"dataframe\">\n",
       "  <thead>\n",
       "    <tr style=\"text-align: right;\">\n",
       "      <th></th>\n",
       "      <th>title</th>\n",
       "      <th>text</th>\n",
       "      <th>label</th>\n",
       "    </tr>\n",
       "  </thead>\n",
       "  <tbody>\n",
       "    <tr>\n",
       "      <th>0</th>\n",
       "      <td>LAW ENFORCEMENT ON HIGH ALERT Following Threat...</td>\n",
       "      <td>No comment is expected from Barack Obama Membe...</td>\n",
       "      <td>1</td>\n",
       "    </tr>\n",
       "    <tr>\n",
       "      <th>1</th>\n",
       "      <td>NaN</td>\n",
       "      <td>Did they post their votes for Hillary already?</td>\n",
       "      <td>1</td>\n",
       "    </tr>\n",
       "    <tr>\n",
       "      <th>2</th>\n",
       "      <td>UNBELIEVABLE! OBAMA’S ATTORNEY GENERAL SAYS MO...</td>\n",
       "      <td>Now, most of the demonstrators gathered last ...</td>\n",
       "      <td>1</td>\n",
       "    </tr>\n",
       "    <tr>\n",
       "      <th>3</th>\n",
       "      <td>Bobby Jindal, raised Hindu, uses story of Chri...</td>\n",
       "      <td>A dozen politically active pastors came here f...</td>\n",
       "      <td>0</td>\n",
       "    </tr>\n",
       "    <tr>\n",
       "      <th>4</th>\n",
       "      <td>SATAN 2: Russia unvelis an image of its terrif...</td>\n",
       "      <td>The RS-28 Sarmat missile, dubbed Satan 2, will...</td>\n",
       "      <td>1</td>\n",
       "    </tr>\n",
       "    <tr>\n",
       "      <th>...</th>\n",
       "      <td>...</td>\n",
       "      <td>...</td>\n",
       "      <td>...</td>\n",
       "    </tr>\n",
       "    <tr>\n",
       "      <th>72129</th>\n",
       "      <td>Russians steal research on Trump in hack of U....</td>\n",
       "      <td>WASHINGTON (Reuters) - Hackers believed to be ...</td>\n",
       "      <td>0</td>\n",
       "    </tr>\n",
       "    <tr>\n",
       "      <th>72130</th>\n",
       "      <td>WATCH: Giuliani Demands That Democrats Apolog...</td>\n",
       "      <td>You know, because in fantasyland Republicans n...</td>\n",
       "      <td>1</td>\n",
       "    </tr>\n",
       "    <tr>\n",
       "      <th>72131</th>\n",
       "      <td>Migrants Refuse To Leave Train At Refugee Camp...</td>\n",
       "      <td>Migrants Refuse To Leave Train At Refugee Camp...</td>\n",
       "      <td>0</td>\n",
       "    </tr>\n",
       "    <tr>\n",
       "      <th>72132</th>\n",
       "      <td>Trump tussle gives unpopular Mexican leader mu...</td>\n",
       "      <td>MEXICO CITY (Reuters) - Donald Trump’s combati...</td>\n",
       "      <td>0</td>\n",
       "    </tr>\n",
       "    <tr>\n",
       "      <th>72133</th>\n",
       "      <td>Goldman Sachs Endorses Hillary Clinton For Pre...</td>\n",
       "      <td>Goldman Sachs Endorses Hillary Clinton For Pre...</td>\n",
       "      <td>1</td>\n",
       "    </tr>\n",
       "  </tbody>\n",
       "</table>\n",
       "<p>72134 rows × 3 columns</p>\n",
       "</div>"
      ],
      "text/plain": [
       "                                                   title  \\\n",
       "0      LAW ENFORCEMENT ON HIGH ALERT Following Threat...   \n",
       "1                                                    NaN   \n",
       "2      UNBELIEVABLE! OBAMA’S ATTORNEY GENERAL SAYS MO...   \n",
       "3      Bobby Jindal, raised Hindu, uses story of Chri...   \n",
       "4      SATAN 2: Russia unvelis an image of its terrif...   \n",
       "...                                                  ...   \n",
       "72129  Russians steal research on Trump in hack of U....   \n",
       "72130   WATCH: Giuliani Demands That Democrats Apolog...   \n",
       "72131  Migrants Refuse To Leave Train At Refugee Camp...   \n",
       "72132  Trump tussle gives unpopular Mexican leader mu...   \n",
       "72133  Goldman Sachs Endorses Hillary Clinton For Pre...   \n",
       "\n",
       "                                                    text  label  \n",
       "0      No comment is expected from Barack Obama Membe...      1  \n",
       "1         Did they post their votes for Hillary already?      1  \n",
       "2       Now, most of the demonstrators gathered last ...      1  \n",
       "3      A dozen politically active pastors came here f...      0  \n",
       "4      The RS-28 Sarmat missile, dubbed Satan 2, will...      1  \n",
       "...                                                  ...    ...  \n",
       "72129  WASHINGTON (Reuters) - Hackers believed to be ...      0  \n",
       "72130  You know, because in fantasyland Republicans n...      1  \n",
       "72131  Migrants Refuse To Leave Train At Refugee Camp...      0  \n",
       "72132  MEXICO CITY (Reuters) - Donald Trump’s combati...      0  \n",
       "72133  Goldman Sachs Endorses Hillary Clinton For Pre...      1  \n",
       "\n",
       "[72134 rows x 3 columns]"
      ]
     },
     "execution_count": 7,
     "metadata": {},
     "output_type": "execute_result"
    }
   ],
   "source": [
    "data"
   ]
  },
  {
   "cell_type": "code",
   "execution_count": 8,
   "id": "215792e1",
   "metadata": {},
   "outputs": [
    {
     "data": {
      "text/plain": [
       "1    37106\n",
       "0    35028\n",
       "Name: label, dtype: int64"
      ]
     },
     "execution_count": 8,
     "metadata": {},
     "output_type": "execute_result"
    }
   ],
   "source": [
    "# Checking the value counts for label to see whether is there any inbalance of label\n",
    "# For instance, if value 0 has 1000 and value 1 has 37000, the model trained will be bias towards value 1 since it's \n",
    "# making fewer mistakes on value 1\n",
    "\n",
    "data[\"label\"].value_counts()"
   ]
  },
  {
   "cell_type": "code",
   "execution_count": 9,
   "id": "ceff341f",
   "metadata": {},
   "outputs": [
    {
     "data": {
      "text/plain": [
       "2"
      ]
     },
     "execution_count": 9,
     "metadata": {},
     "output_type": "execute_result"
    }
   ],
   "source": [
    "# Checking the unique count for label to ensure data quality. For instance, if the unique count for label is 3, which \n",
    "# mean something is wrong since the label will be either 0 or 1 (spam or not spam)\n",
    "\n",
    "data[\"label\"].nunique()"
   ]
  },
  {
   "cell_type": "code",
   "execution_count": 10,
   "id": "6a726f55",
   "metadata": {},
   "outputs": [
    {
     "data": {
      "text/plain": [
       "(72134, 3)"
      ]
     },
     "execution_count": 10,
     "metadata": {},
     "output_type": "execute_result"
    }
   ],
   "source": [
    "# Use .shape to view how many rows and columns are there in our dataset\n",
    "\n",
    "data.shape"
   ]
  },
  {
   "cell_type": "code",
   "execution_count": 11,
   "id": "d8c41bf1",
   "metadata": {},
   "outputs": [
    {
     "data": {
      "text/plain": [
       "title    558\n",
       "text      39\n",
       "label      0\n",
       "dtype: int64"
      ]
     },
     "execution_count": 11,
     "metadata": {},
     "output_type": "execute_result"
    }
   ],
   "source": [
    "# Use .isnull().sum() to check for the total (sum of) null values for each column\n",
    "\n",
    "data.isnull().sum()"
   ]
  },
  {
   "cell_type": "code",
   "execution_count": 12,
   "id": "3ebee7fd",
   "metadata": {},
   "outputs": [
    {
     "data": {
      "text/plain": [
       "title    object\n",
       "text     object\n",
       "label     int64\n",
       "dtype: object"
      ]
     },
     "execution_count": 12,
     "metadata": {},
     "output_type": "execute_result"
    }
   ],
   "source": [
    "# Use .dtypes to check the data types for each column\n",
    "\n",
    "data.dtypes"
   ]
  },
  {
   "cell_type": "code",
   "execution_count": 13,
   "id": "1b7e9bed",
   "metadata": {},
   "outputs": [
    {
     "name": "stdout",
     "output_type": "stream",
     "text": [
      "      title                                               text  label\n",
      "1       NaN     Did they post their votes for Hillary already?      1\n",
      "43      NaN  True. Hillary needs a distraction and what bet...      1\n",
      "162     NaN  All eyes on Electoral delegates. The People kn...      1\n",
      "185     NaN                                               Cool      1\n",
      "269     NaN  A leading US senator: US Supporting War in Syr...      1\n",
      "...     ...                                                ...    ...\n",
      "71484   NaN  Another Arab supremacist masturbation fantasy....      1\n",
      "71521   NaN  I'm sure they drastically changed accounting m...      1\n",
      "71540   NaN  It's easy to imagine Obama or Kerry pissing hi...      1\n",
      "71570   NaN  Ever since the powers to be assassinated JFK A...      1\n",
      "71734   NaN             Hmm, free college, now that's an idea.      1\n",
      "\n",
      "[558 rows x 3 columns]\n",
      "                                                   title text  label\n",
      "2457   Après le succès de « Mariés au premier regard ...  NaN      1\n",
      "3534   Elections US : les premières estimations donne...  NaN      1\n",
      "3709   110% des Américains assurent qu’ils continuero...  NaN      1\n",
      "5612   Des millions d’Américains recherchent massivem...  NaN      1\n",
      "6270   Vladimir Poutine est élu 45e Président des Eta...  NaN      1\n",
      "6997   Les Américains ne sont plus qu’à quelques heur...  NaN      1\n",
      "7083   Gorafi Magazine: Barack Obama « Je vous ai déj...  NaN      1\n",
      "8974     Live Soirée présidentielle US 2016 >> Le Gorafi  NaN      1\n",
      "16717  Ne supportant plus l’ambiance de la campagne é...  NaN      1\n",
      "17781  Débat Primaire de la Droite : les Français pas...  NaN      1\n",
      "18342  [Vidéo] Découvrez le Gorafi de l’Année 2017 >>...  NaN      1\n",
      "24076  Heureux et souriant, il a la chance de toujour...  NaN      1\n",
      "26324  Les gardes-frontières se mettent en alerte pou...  NaN      1\n",
      "26898  #NDDL: Pour fêter l’autorisation des travaux, ...  NaN      1\n",
      "30280  Grand-Prix du Brésil – Romain Grosjean obtient...  NaN      1\n",
      "31711  Primaire – François Fillon se désiste au profi...  NaN      1\n",
      "35933  «Pourquoi je suis candidat à la présidentielle...  NaN      1\n",
      "37578  New-York – Le lâcher de confettis prévu à Time...  NaN      1\n",
      "40241         Horoscope du 21 novembre 2016 >> Le Gorafi  NaN      1\n",
      "44166  La Trump Tower cambriolée – les voleurs seraie...  NaN      1\n",
      "45468  La sortie du dernier livre inédit du Gorafi éc...  NaN      1\n",
      "45714  La Russie a profité de l’élection américaine p...  NaN      1\n",
      "46383               Donald Trump en 5 dates >> Le Gorafi  NaN      1\n",
      "46940  La voyante lisait l’avenir dans les cartes ble...  NaN      1\n",
      "47751  Le top des recherches Google passe en top des ...  NaN      1\n",
      "48677  Donald Trump s’excuse pour toutes les minorité...  NaN      1\n",
      "49031  GuinessBook : 100 millions d’Américains batten...  NaN      1\n",
      "50212  Il saoule tout le monde avec son analyse polit...  NaN      1\n",
      "53407  Il se fait cryogéniser dans l’espoir de voir u...  NaN      1\n",
      "54258  Pour booster les ventes, Dassault offre un por...  NaN      1\n",
      "54264            Hillary Clinton en 5 dates >> Le Gorafi  NaN      1\n",
      "56864  Sur Twitter, Donald Trump se félicite d’avoir ...  NaN      1\n",
      "58345  Vendée Globe – Un skipper fait demi-tour après...  NaN      1\n",
      "59272  SPA : Enfermé depuis trois jours dans une cage...  NaN      1\n",
      "59436  Gorafi Magazine : Entretien exclusif avec Bara...  NaN      1\n",
      "63882  La Corée du Nord annonce avoir envoyé un missi...  NaN      1\n",
      "64832  Trop essoufflé après avoir cherché ses affaire...  NaN      1\n",
      "65316  Elle met en fuite un braqueur en lui jetant de...  NaN      1\n",
      "67781  “Notre batal a coulé” par l’homme qui fait des...  NaN      1\n"
     ]
    }
   ],
   "source": [
    "null_title = data[data[\"title\"].isnull()]\n",
    "print(null_title)\n",
    "\n",
    "null_text = data[data[\"text\"].isnull()]\n",
    "print(null_text)"
   ]
  },
  {
   "cell_type": "code",
   "execution_count": 14,
   "id": "d22e37ba",
   "metadata": {},
   "outputs": [],
   "source": [
    "# In here, I filled the null values with text (\"No Text\") instead of dropping rows with null value since dropping\n",
    "# columns with null value isn't the best way for Data Cleaning Process   \n",
    "\n",
    "replacement_text = \"No Text\"\n",
    "data = data.fillna(replacement_text)"
   ]
  },
  {
   "cell_type": "code",
   "execution_count": 15,
   "id": "bc0fcf90",
   "metadata": {},
   "outputs": [
    {
     "data": {
      "text/plain": [
       "title    0\n",
       "text     0\n",
       "label    0\n",
       "dtype: int64"
      ]
     },
     "execution_count": 15,
     "metadata": {},
     "output_type": "execute_result"
    }
   ],
   "source": [
    "# Check for null values again after filling the null values with replacement_text\n",
    "\n",
    "data.isnull().sum()"
   ]
  },
  {
   "cell_type": "code",
   "execution_count": 16,
   "id": "8d33119c",
   "metadata": {},
   "outputs": [
    {
     "data": {
      "text/plain": [
       "'No comment is expected from Barack Obama Members of the #FYF911 or #FukYoFlag and #BlackLivesMatter movements called for the lynching and hanging of white people and cops. They encouraged others on a radio show Tuesday night to  turn the tide  and kill white people and cops to send a message about the killing of black people in America.One of the F***YoFlag organizers is called  Sunshine.  She has a radio blog show hosted from Texas called,  Sunshine s F***ing Opinion Radio Show. A snapshot of her #FYF911 @LOLatWhiteFear Twitter page at 9:53 p.m. shows that she was urging supporters to  Call now!! #fyf911 tonight we continue to dismantle the illusion of white Below is a SNAPSHOT Twitter Radio Call Invite   #FYF911The radio show aired at 10:00 p.m. eastern standard time.During the show, callers clearly call for  lynching  and  killing  of white people.A 2:39 minute clip from the radio show can be heard here. It was provided to Breitbart Texas by someone who would like to be referred to as  Hannibal.  He has already received death threats as a result of interrupting #FYF911 conference calls.An unidentified black man said  when those mother f**kers are by themselves, that s when when we should start f***ing them up. Like they do us, when a bunch of them ni**ers takin  one of us out, that s how we should roll up.  He said,  Cause we already roll up in gangs anyway. There should be six or seven black mother f**ckers, see that white person, and then lynch their ass. Let s turn the tables. They conspired that if  cops started losing people,  then  there will be a state of emergency. He speculated that one of two things would happen,  a big-ass [R s?????] war,  or  ni**ers, they are going to start backin  up. We are already getting killed out here so what the f**k we got to lose? Sunshine could be heard saying,  Yep, that s true. That s so f**king true. He said,  We need to turn the tables on them. Our kids are getting shot out here. Somebody needs to become a sacrifice on their side.He said,  Everybody ain t down for that s**t, or whatever, but like I say, everybody has a different position of war.  He continued,  Because they don t give a f**k anyway.  He said again,  We might as well utilized them for that s**t and turn the tables on these n**ers. He said, that way  we can start lookin  like we ain t havin  that many casualties, and there can be more causalities on their side instead of ours. They are out their killing black people, black lives don t matter, that s what those mother f**kers   so we got to make it matter to them. Find a mother f**ker that is alone. Snap his ass, and then f***in hang him from a damn tree. Take a picture of it and then send it to the mother f**kers. We  just need one example,  and  then people will start watchin .  This will turn the tables on s**t, he said. He said this will start  a trickle-down effect.  He said that when one white person is hung and then they are just  flat-hanging,  that will start the  trickle-down effect.  He continued,  Black people are good at starting trends. He said that was how  to get the upper-hand. Another black man spoke up saying they needed to kill  cops that are killing us. The first black male said,  That will be the best method right there. Breitbart Texas previously reported how Sunshine was upset when  racist white people  infiltrated and disrupted one of her conference calls. She subsequently released the phone number of one of the infiltrators. The veteran immediately started receiving threatening calls.One of the #F***YoFlag movement supporters allegedly told a veteran who infiltrated their publicly posted conference call,  We are going to rape and gut your pregnant wife, and your f***ing piece of sh*t unborn creature will be hung from a tree. Breitbart Texas previously encountered Sunshine at a Sandra Bland protest at the Waller County Jail in Texas, where she said all white people should be killed. She told journalists and photographers,  You see this nappy-ass hair on my head?   That means I am one of those more militant Negroes.  She said she was at the protest because  these redneck mother-f**kers murdered Sandra Bland because she had nappy hair like me. #FYF911 black radicals say they will be holding the  imperial powers  that are actually responsible for the terrorist attacks on September 11th accountable on that day, as reported by Breitbart Texas. There are several websites and Twitter handles for the movement. Palmetto Star  describes himself as one of the head organizers. He said in a YouTube video that supporters will be burning their symbols of  the illusion of their superiority,  their  false white supremacy,  like the American flag, the British flag, police uniforms, and Ku Klux Klan hoods.Sierra McGrone or  Nocturnus Libertus  posted,  you too can help a young Afrikan clean their a** with the rag of oppression.  She posted two photos, one that appears to be herself, and a photo of a black man, wiping their naked butts with the American flag.For entire story: Breitbart News'"
      ]
     },
     "execution_count": 16,
     "metadata": {},
     "output_type": "execute_result"
    }
   ],
   "source": [
    "data[\"text\"][0]"
   ]
  },
  {
   "cell_type": "code",
   "execution_count": 123,
   "id": "101bcebc",
   "metadata": {},
   "outputs": [
    {
     "data": {
      "text/plain": [
       "'Bobby Jindal, raised Hindu, uses story of Christian conversion to woo evangelicals for potential 2016 bid'"
      ]
     },
     "execution_count": 123,
     "metadata": {},
     "output_type": "execute_result"
    }
   ],
   "source": [
    "data[\"title\"][3]"
   ]
  },
  {
   "cell_type": "code",
   "execution_count": 17,
   "id": "be62c79a",
   "metadata": {},
   "outputs": [
    {
     "data": {
      "text/plain": [
       "Index(['title', 'text', 'label'], dtype='object')"
      ]
     },
     "execution_count": 17,
     "metadata": {},
     "output_type": "execute_result"
    }
   ],
   "source": [
    "data.columns"
   ]
  },
  {
   "cell_type": "markdown",
   "id": "7dd83b11",
   "metadata": {},
   "source": [
    "## Data Preprocessing - With Title As Feature Since Noise In The Text Can Make It Harder To Distinguish Between Fake And Genuine News\n",
    "\n",
    "#### In here, several operations will be perform such as:\n",
    "    - Tokenization\n",
    "    - Lower Case\n",
    "    - Stopwords\n",
    "    - Lemmatization"
   ]
  },
  {
   "cell_type": "code",
   "execution_count": 18,
   "id": "2424ebdc",
   "metadata": {},
   "outputs": [
    {
     "name": "stderr",
     "output_type": "stream",
     "text": [
      "[nltk_data] Downloading package stopwords to\n",
      "[nltk_data]     /Users/_fangkhai/nltk_data...\n",
      "[nltk_data]   Package stopwords is already up-to-date!\n"
     ]
    },
    {
     "data": {
      "text/plain": [
       "True"
      ]
     },
     "execution_count": 18,
     "metadata": {},
     "output_type": "execute_result"
    }
   ],
   "source": [
    "# Download stopwords from nltk library\n",
    "\n",
    "nltk.download('stopwords')"
   ]
  },
  {
   "cell_type": "code",
   "execution_count": 80,
   "id": "bea051ed",
   "metadata": {},
   "outputs": [
    {
     "name": "stdout",
     "output_type": "stream",
     "text": [
      "['i', 'me', 'my', 'myself', 'we', 'our', 'ours', 'ourselves', 'you', \"you're\", \"you've\", \"you'll\", \"you'd\", 'your', 'yours', 'yourself', 'yourselves', 'he', 'him', 'his']\n"
     ]
    }
   ],
   "source": [
    "# Initialize stopwords to have a view of sample of stopwords\n",
    "\n",
    "stopwords = stopwords.words(\"english\")\n",
    "print(stopwords[0:20])"
   ]
  },
  {
   "cell_type": "code",
   "execution_count": 81,
   "id": "35faefbc",
   "metadata": {},
   "outputs": [],
   "source": [
    "# In here, lemmatization will be use instead of stemming and explanation will be provided when performing stemming\n",
    "\n",
    "lm = WordNetLemmatizer()\n",
    "corpus = []\n",
    "\n",
    "for i in range (len(data)):\n",
    "    # Using regular expression to search for a pattern in a given string\n",
    "    review = re.sub(\"a-zA-z0-9\", \" \", data[\"title\"][i])\n",
    "    \n",
    "    # Converting to lower case\n",
    "    review = review.lower()\n",
    "    \n",
    "    # Applying tokenization\n",
    "    review = review.split()\n",
    "    \n",
    "    # Removing stopwords\n",
    "    review = [lm.lemmatize(y) for y in review if y not in stopwords]\n",
    "    \n",
    "    # Joining the sentence after lemmatization is applied\n",
    "    review = \" \".join(review)\n",
    "    \n",
    "    # Storing review into corpus array\n",
    "    corpus.append(review)"
   ]
  },
  {
   "cell_type": "code",
   "execution_count": 82,
   "id": "5c6f56ae",
   "metadata": {},
   "outputs": [
    {
     "name": "stdout",
     "output_type": "stream",
     "text": [
      "Before Preprocessing:\n",
      " LAW ENFORCEMENT ON HIGH ALERT Following Threats Against Cops And Whites On 9-11By #BlackLivesMatter And #FYF911 Terrorists [VIDEO]\n",
      "\n",
      "After Preprocessing:\n",
      " law enforcement high alert following threat cop white 9-11by #blacklivesmatter #fyf911 terrorist [video]\n"
     ]
    }
   ],
   "source": [
    "print(\"Before Preprocessing:\\n\", data[\"title\"][0])\n",
    "print(\"\\nAfter Preprocessing:\\n\", corpus[0])\n",
    "\n",
    "# We can see that before and after preprocessing, there are significant differences such as all words is in lowercase"
   ]
  },
  {
   "cell_type": "code",
   "execution_count": 83,
   "id": "4a529fc9",
   "metadata": {},
   "outputs": [],
   "source": [
    "# In here, stemming will be use\n",
    "\n",
    "port_stem = PorterStemmer()\n",
    "crps = []\n",
    "\n",
    "for i in range (len(data)):\n",
    "    # Using regular expression to search for a pattern in a given string\n",
    "    con = re.sub(\"[^a-zA-Z]\", \" \", data[\"title\"][i])\n",
    "    \n",
    "    # Converting to lower case\n",
    "    con = con.lower()\n",
    "    \n",
    "    # Applying tokenization\n",
    "    con = con.split()\n",
    "    \n",
    "    # Removing stopwords\n",
    "    con = [port_stem.stem(x) for x in con if x not in stopwords]\n",
    "    \n",
    "    # Joining the sentence after lemmatization is applied\n",
    "    con = \" \".join(con)\n",
    "    \n",
    "    # Storing review into corpus array\n",
    "    crps.append(con)"
   ]
  },
  {
   "cell_type": "code",
   "execution_count": 84,
   "id": "f6848560",
   "metadata": {},
   "outputs": [
    {
     "name": "stdout",
     "output_type": "stream",
     "text": [
      "Before Preprocessing:\n",
      " LAW ENFORCEMENT ON HIGH ALERT Following Threats Against Cops And Whites On 9-11By #BlackLivesMatter And #FYF911 Terrorists [VIDEO]\n",
      "\n",
      "After Preprocessing:\n",
      " law enforc high alert follow threat cop white blacklivesmatt fyf terrorist video\n"
     ]
    }
   ],
   "source": [
    "print(\"Before Preprocessing:\\n\", data[\"title\"][0])\n",
    "print(\"\\nAfter Preprocessing:\\n\", crps[0])\n",
    "\n",
    "# We can see that before and after preprocessing, stemming is not suitable since it is a more aggressive approach \n",
    "# than lematization and can results in loss of some words meaning and context "
   ]
  },
  {
   "cell_type": "markdown",
   "id": "9986a259",
   "metadata": {},
   "source": [
    "## Vectorization - Converting Text Data Into Vector Form"
   ]
  },
  {
   "cell_type": "code",
   "execution_count": 24,
   "id": "54f80aa0",
   "metadata": {},
   "outputs": [
    {
     "data": {
      "text/plain": [
       "array([[0., 0., 0., ..., 0., 0., 0.],\n",
       "       [0., 0., 0., ..., 0., 0., 0.],\n",
       "       [0., 0., 0., ..., 0., 0., 0.],\n",
       "       ...,\n",
       "       [0., 0., 0., ..., 0., 0., 0.],\n",
       "       [0., 0., 0., ..., 0., 0., 0.],\n",
       "       [0., 0., 0., ..., 0., 0., 0.]])"
      ]
     },
     "execution_count": 24,
     "metadata": {},
     "output_type": "execute_result"
    }
   ],
   "source": [
    "# In here TF-IDF will be used to convert the text data into vector form\n",
    "\n",
    "tf = TfidfVectorizer()\n",
    "x = tf.fit_transform(corpus).toarray()\n",
    "x"
   ]
  },
  {
   "cell_type": "code",
   "execution_count": 25,
   "id": "61dc6834",
   "metadata": {},
   "outputs": [],
   "source": [
    "y = data[\"label\"]"
   ]
  },
  {
   "cell_type": "markdown",
   "id": "6a954095",
   "metadata": {},
   "source": [
    "## Model Building - With A Train Test Split Ratio 7:3\n",
    "\n",
    "#### In here, several operations will be perform such as:\n",
    "    - Train Test Split\n",
    "    - Model Object Initialization\n",
    "    - Training and Testing of Model"
   ]
  },
  {
   "cell_type": "markdown",
   "id": "cc555d51",
   "metadata": {},
   "source": [
    "#### Train Test Split"
   ]
  },
  {
   "cell_type": "code",
   "execution_count": 26,
   "id": "5a2bb151",
   "metadata": {},
   "outputs": [],
   "source": [
    "# Use train_test_split() function to split our data into 70% for training and 30% for testing\n",
    "\n",
    "X_train, x_test, Y_train, y_test = train_test_split(x, y, test_size = 0.3, random_state = 50, stratify = y)"
   ]
  },
  {
   "cell_type": "code",
   "execution_count": 27,
   "id": "bae412ab",
   "metadata": {},
   "outputs": [
    {
     "data": {
      "text/plain": [
       "(50493, 50493)"
      ]
     },
     "execution_count": 27,
     "metadata": {},
     "output_type": "execute_result"
    }
   ],
   "source": [
    "len(X_train), len(Y_train)"
   ]
  },
  {
   "cell_type": "code",
   "execution_count": 28,
   "id": "c3e16688",
   "metadata": {},
   "outputs": [
    {
     "data": {
      "text/plain": [
       "(21641, 21641)"
      ]
     },
     "execution_count": 28,
     "metadata": {},
     "output_type": "execute_result"
    }
   ],
   "source": [
    "len(x_test), len(y_test)"
   ]
  },
  {
   "cell_type": "markdown",
   "id": "deed550d",
   "metadata": {},
   "source": [
    "#### Model Object Initialization - RandomForestClassifier()"
   ]
  },
  {
   "cell_type": "code",
   "execution_count": 29,
   "id": "11f25ebd",
   "metadata": {},
   "outputs": [
    {
     "data": {
      "text/html": [
       "<style>#sk-container-id-1 {color: black;}#sk-container-id-1 pre{padding: 0;}#sk-container-id-1 div.sk-toggleable {background-color: white;}#sk-container-id-1 label.sk-toggleable__label {cursor: pointer;display: block;width: 100%;margin-bottom: 0;padding: 0.3em;box-sizing: border-box;text-align: center;}#sk-container-id-1 label.sk-toggleable__label-arrow:before {content: \"▸\";float: left;margin-right: 0.25em;color: #696969;}#sk-container-id-1 label.sk-toggleable__label-arrow:hover:before {color: black;}#sk-container-id-1 div.sk-estimator:hover label.sk-toggleable__label-arrow:before {color: black;}#sk-container-id-1 div.sk-toggleable__content {max-height: 0;max-width: 0;overflow: hidden;text-align: left;background-color: #f0f8ff;}#sk-container-id-1 div.sk-toggleable__content pre {margin: 0.2em;color: black;border-radius: 0.25em;background-color: #f0f8ff;}#sk-container-id-1 input.sk-toggleable__control:checked~div.sk-toggleable__content {max-height: 200px;max-width: 100%;overflow: auto;}#sk-container-id-1 input.sk-toggleable__control:checked~label.sk-toggleable__label-arrow:before {content: \"▾\";}#sk-container-id-1 div.sk-estimator input.sk-toggleable__control:checked~label.sk-toggleable__label {background-color: #d4ebff;}#sk-container-id-1 div.sk-label input.sk-toggleable__control:checked~label.sk-toggleable__label {background-color: #d4ebff;}#sk-container-id-1 input.sk-hidden--visually {border: 0;clip: rect(1px 1px 1px 1px);clip: rect(1px, 1px, 1px, 1px);height: 1px;margin: -1px;overflow: hidden;padding: 0;position: absolute;width: 1px;}#sk-container-id-1 div.sk-estimator {font-family: monospace;background-color: #f0f8ff;border: 1px dotted black;border-radius: 0.25em;box-sizing: border-box;margin-bottom: 0.5em;}#sk-container-id-1 div.sk-estimator:hover {background-color: #d4ebff;}#sk-container-id-1 div.sk-parallel-item::after {content: \"\";width: 100%;border-bottom: 1px solid gray;flex-grow: 1;}#sk-container-id-1 div.sk-label:hover label.sk-toggleable__label {background-color: #d4ebff;}#sk-container-id-1 div.sk-serial::before {content: \"\";position: absolute;border-left: 1px solid gray;box-sizing: border-box;top: 0;bottom: 0;left: 50%;z-index: 0;}#sk-container-id-1 div.sk-serial {display: flex;flex-direction: column;align-items: center;background-color: white;padding-right: 0.2em;padding-left: 0.2em;position: relative;}#sk-container-id-1 div.sk-item {position: relative;z-index: 1;}#sk-container-id-1 div.sk-parallel {display: flex;align-items: stretch;justify-content: center;background-color: white;position: relative;}#sk-container-id-1 div.sk-item::before, #sk-container-id-1 div.sk-parallel-item::before {content: \"\";position: absolute;border-left: 1px solid gray;box-sizing: border-box;top: 0;bottom: 0;left: 50%;z-index: -1;}#sk-container-id-1 div.sk-parallel-item {display: flex;flex-direction: column;z-index: 1;position: relative;background-color: white;}#sk-container-id-1 div.sk-parallel-item:first-child::after {align-self: flex-end;width: 50%;}#sk-container-id-1 div.sk-parallel-item:last-child::after {align-self: flex-start;width: 50%;}#sk-container-id-1 div.sk-parallel-item:only-child::after {width: 0;}#sk-container-id-1 div.sk-dashed-wrapped {border: 1px dashed gray;margin: 0 0.4em 0.5em 0.4em;box-sizing: border-box;padding-bottom: 0.4em;background-color: white;}#sk-container-id-1 div.sk-label label {font-family: monospace;font-weight: bold;display: inline-block;line-height: 1.2em;}#sk-container-id-1 div.sk-label-container {text-align: center;}#sk-container-id-1 div.sk-container {/* jupyter's `normalize.less` sets `[hidden] { display: none; }` but bootstrap.min.css set `[hidden] { display: none !important; }` so we also need the `!important` here to be able to override the default hidden behavior on the sphinx rendered scikit-learn.org. See: https://github.com/scikit-learn/scikit-learn/issues/21755 */display: inline-block !important;position: relative;}#sk-container-id-1 div.sk-text-repr-fallback {display: none;}</style><div id=\"sk-container-id-1\" class=\"sk-top-container\"><div class=\"sk-text-repr-fallback\"><pre>RandomForestClassifier()</pre><b>In a Jupyter environment, please rerun this cell to show the HTML representation or trust the notebook. <br />On GitHub, the HTML representation is unable to render, please try loading this page with nbviewer.org.</b></div><div class=\"sk-container\" hidden><div class=\"sk-item\"><div class=\"sk-estimator sk-toggleable\"><input class=\"sk-toggleable__control sk-hidden--visually\" id=\"sk-estimator-id-1\" type=\"checkbox\" checked><label for=\"sk-estimator-id-1\" class=\"sk-toggleable__label sk-toggleable__label-arrow\">RandomForestClassifier</label><div class=\"sk-toggleable__content\"><pre>RandomForestClassifier()</pre></div></div></div></div></div>"
      ],
      "text/plain": [
       "RandomForestClassifier()"
      ]
     },
     "execution_count": 29,
     "metadata": {},
     "output_type": "execute_result"
    }
   ],
   "source": [
    "# Our training data is sent into RandomForestClassifier in this instance to train our model\n",
    "# RandomForestClassifier is used because it's a popular machine learning model that can be used for a wide range of\n",
    "# classification tasks, including fake news detection\n",
    "\n",
    "rf = RandomForestClassifier()\n",
    "rf.fit(X_train, Y_train)"
   ]
  },
  {
   "cell_type": "markdown",
   "id": "79b2b9de",
   "metadata": {},
   "source": [
    "#### Model Object Initialization - DecisionTreeClassifier()"
   ]
  },
  {
   "cell_type": "code",
   "execution_count": 30,
   "id": "0c5d063d",
   "metadata": {},
   "outputs": [
    {
     "data": {
      "text/html": [
       "<style>#sk-container-id-2 {color: black;}#sk-container-id-2 pre{padding: 0;}#sk-container-id-2 div.sk-toggleable {background-color: white;}#sk-container-id-2 label.sk-toggleable__label {cursor: pointer;display: block;width: 100%;margin-bottom: 0;padding: 0.3em;box-sizing: border-box;text-align: center;}#sk-container-id-2 label.sk-toggleable__label-arrow:before {content: \"▸\";float: left;margin-right: 0.25em;color: #696969;}#sk-container-id-2 label.sk-toggleable__label-arrow:hover:before {color: black;}#sk-container-id-2 div.sk-estimator:hover label.sk-toggleable__label-arrow:before {color: black;}#sk-container-id-2 div.sk-toggleable__content {max-height: 0;max-width: 0;overflow: hidden;text-align: left;background-color: #f0f8ff;}#sk-container-id-2 div.sk-toggleable__content pre {margin: 0.2em;color: black;border-radius: 0.25em;background-color: #f0f8ff;}#sk-container-id-2 input.sk-toggleable__control:checked~div.sk-toggleable__content {max-height: 200px;max-width: 100%;overflow: auto;}#sk-container-id-2 input.sk-toggleable__control:checked~label.sk-toggleable__label-arrow:before {content: \"▾\";}#sk-container-id-2 div.sk-estimator input.sk-toggleable__control:checked~label.sk-toggleable__label {background-color: #d4ebff;}#sk-container-id-2 div.sk-label input.sk-toggleable__control:checked~label.sk-toggleable__label {background-color: #d4ebff;}#sk-container-id-2 input.sk-hidden--visually {border: 0;clip: rect(1px 1px 1px 1px);clip: rect(1px, 1px, 1px, 1px);height: 1px;margin: -1px;overflow: hidden;padding: 0;position: absolute;width: 1px;}#sk-container-id-2 div.sk-estimator {font-family: monospace;background-color: #f0f8ff;border: 1px dotted black;border-radius: 0.25em;box-sizing: border-box;margin-bottom: 0.5em;}#sk-container-id-2 div.sk-estimator:hover {background-color: #d4ebff;}#sk-container-id-2 div.sk-parallel-item::after {content: \"\";width: 100%;border-bottom: 1px solid gray;flex-grow: 1;}#sk-container-id-2 div.sk-label:hover label.sk-toggleable__label {background-color: #d4ebff;}#sk-container-id-2 div.sk-serial::before {content: \"\";position: absolute;border-left: 1px solid gray;box-sizing: border-box;top: 0;bottom: 0;left: 50%;z-index: 0;}#sk-container-id-2 div.sk-serial {display: flex;flex-direction: column;align-items: center;background-color: white;padding-right: 0.2em;padding-left: 0.2em;position: relative;}#sk-container-id-2 div.sk-item {position: relative;z-index: 1;}#sk-container-id-2 div.sk-parallel {display: flex;align-items: stretch;justify-content: center;background-color: white;position: relative;}#sk-container-id-2 div.sk-item::before, #sk-container-id-2 div.sk-parallel-item::before {content: \"\";position: absolute;border-left: 1px solid gray;box-sizing: border-box;top: 0;bottom: 0;left: 50%;z-index: -1;}#sk-container-id-2 div.sk-parallel-item {display: flex;flex-direction: column;z-index: 1;position: relative;background-color: white;}#sk-container-id-2 div.sk-parallel-item:first-child::after {align-self: flex-end;width: 50%;}#sk-container-id-2 div.sk-parallel-item:last-child::after {align-self: flex-start;width: 50%;}#sk-container-id-2 div.sk-parallel-item:only-child::after {width: 0;}#sk-container-id-2 div.sk-dashed-wrapped {border: 1px dashed gray;margin: 0 0.4em 0.5em 0.4em;box-sizing: border-box;padding-bottom: 0.4em;background-color: white;}#sk-container-id-2 div.sk-label label {font-family: monospace;font-weight: bold;display: inline-block;line-height: 1.2em;}#sk-container-id-2 div.sk-label-container {text-align: center;}#sk-container-id-2 div.sk-container {/* jupyter's `normalize.less` sets `[hidden] { display: none; }` but bootstrap.min.css set `[hidden] { display: none !important; }` so we also need the `!important` here to be able to override the default hidden behavior on the sphinx rendered scikit-learn.org. See: https://github.com/scikit-learn/scikit-learn/issues/21755 */display: inline-block !important;position: relative;}#sk-container-id-2 div.sk-text-repr-fallback {display: none;}</style><div id=\"sk-container-id-2\" class=\"sk-top-container\"><div class=\"sk-text-repr-fallback\"><pre>DecisionTreeClassifier()</pre><b>In a Jupyter environment, please rerun this cell to show the HTML representation or trust the notebook. <br />On GitHub, the HTML representation is unable to render, please try loading this page with nbviewer.org.</b></div><div class=\"sk-container\" hidden><div class=\"sk-item\"><div class=\"sk-estimator sk-toggleable\"><input class=\"sk-toggleable__control sk-hidden--visually\" id=\"sk-estimator-id-2\" type=\"checkbox\" checked><label for=\"sk-estimator-id-2\" class=\"sk-toggleable__label sk-toggleable__label-arrow\">DecisionTreeClassifier</label><div class=\"sk-toggleable__content\"><pre>DecisionTreeClassifier()</pre></div></div></div></div></div>"
      ],
      "text/plain": [
       "DecisionTreeClassifier()"
      ]
     },
     "execution_count": 30,
     "metadata": {},
     "output_type": "execute_result"
    }
   ],
   "source": [
    "# Our training data is sent into DecisionTreeClassifier in this instance to train our model\n",
    "# DecisionTreeClassifier is used because it is a relatively simple model and are less prone to overfitting when the\n",
    "# depth of the tree is appropriately controlled.\n",
    "\n",
    "model = DecisionTreeClassifier()\n",
    "model.fit(X_train, Y_train)"
   ]
  },
  {
   "cell_type": "markdown",
   "id": "48c8f061",
   "metadata": {},
   "source": [
    "#### Model Object Initialization - LogisticRegression()"
   ]
  },
  {
   "cell_type": "code",
   "execution_count": 31,
   "id": "9c32770f",
   "metadata": {},
   "outputs": [
    {
     "data": {
      "text/html": [
       "<style>#sk-container-id-3 {color: black;}#sk-container-id-3 pre{padding: 0;}#sk-container-id-3 div.sk-toggleable {background-color: white;}#sk-container-id-3 label.sk-toggleable__label {cursor: pointer;display: block;width: 100%;margin-bottom: 0;padding: 0.3em;box-sizing: border-box;text-align: center;}#sk-container-id-3 label.sk-toggleable__label-arrow:before {content: \"▸\";float: left;margin-right: 0.25em;color: #696969;}#sk-container-id-3 label.sk-toggleable__label-arrow:hover:before {color: black;}#sk-container-id-3 div.sk-estimator:hover label.sk-toggleable__label-arrow:before {color: black;}#sk-container-id-3 div.sk-toggleable__content {max-height: 0;max-width: 0;overflow: hidden;text-align: left;background-color: #f0f8ff;}#sk-container-id-3 div.sk-toggleable__content pre {margin: 0.2em;color: black;border-radius: 0.25em;background-color: #f0f8ff;}#sk-container-id-3 input.sk-toggleable__control:checked~div.sk-toggleable__content {max-height: 200px;max-width: 100%;overflow: auto;}#sk-container-id-3 input.sk-toggleable__control:checked~label.sk-toggleable__label-arrow:before {content: \"▾\";}#sk-container-id-3 div.sk-estimator input.sk-toggleable__control:checked~label.sk-toggleable__label {background-color: #d4ebff;}#sk-container-id-3 div.sk-label input.sk-toggleable__control:checked~label.sk-toggleable__label {background-color: #d4ebff;}#sk-container-id-3 input.sk-hidden--visually {border: 0;clip: rect(1px 1px 1px 1px);clip: rect(1px, 1px, 1px, 1px);height: 1px;margin: -1px;overflow: hidden;padding: 0;position: absolute;width: 1px;}#sk-container-id-3 div.sk-estimator {font-family: monospace;background-color: #f0f8ff;border: 1px dotted black;border-radius: 0.25em;box-sizing: border-box;margin-bottom: 0.5em;}#sk-container-id-3 div.sk-estimator:hover {background-color: #d4ebff;}#sk-container-id-3 div.sk-parallel-item::after {content: \"\";width: 100%;border-bottom: 1px solid gray;flex-grow: 1;}#sk-container-id-3 div.sk-label:hover label.sk-toggleable__label {background-color: #d4ebff;}#sk-container-id-3 div.sk-serial::before {content: \"\";position: absolute;border-left: 1px solid gray;box-sizing: border-box;top: 0;bottom: 0;left: 50%;z-index: 0;}#sk-container-id-3 div.sk-serial {display: flex;flex-direction: column;align-items: center;background-color: white;padding-right: 0.2em;padding-left: 0.2em;position: relative;}#sk-container-id-3 div.sk-item {position: relative;z-index: 1;}#sk-container-id-3 div.sk-parallel {display: flex;align-items: stretch;justify-content: center;background-color: white;position: relative;}#sk-container-id-3 div.sk-item::before, #sk-container-id-3 div.sk-parallel-item::before {content: \"\";position: absolute;border-left: 1px solid gray;box-sizing: border-box;top: 0;bottom: 0;left: 50%;z-index: -1;}#sk-container-id-3 div.sk-parallel-item {display: flex;flex-direction: column;z-index: 1;position: relative;background-color: white;}#sk-container-id-3 div.sk-parallel-item:first-child::after {align-self: flex-end;width: 50%;}#sk-container-id-3 div.sk-parallel-item:last-child::after {align-self: flex-start;width: 50%;}#sk-container-id-3 div.sk-parallel-item:only-child::after {width: 0;}#sk-container-id-3 div.sk-dashed-wrapped {border: 1px dashed gray;margin: 0 0.4em 0.5em 0.4em;box-sizing: border-box;padding-bottom: 0.4em;background-color: white;}#sk-container-id-3 div.sk-label label {font-family: monospace;font-weight: bold;display: inline-block;line-height: 1.2em;}#sk-container-id-3 div.sk-label-container {text-align: center;}#sk-container-id-3 div.sk-container {/* jupyter's `normalize.less` sets `[hidden] { display: none; }` but bootstrap.min.css set `[hidden] { display: none !important; }` so we also need the `!important` here to be able to override the default hidden behavior on the sphinx rendered scikit-learn.org. See: https://github.com/scikit-learn/scikit-learn/issues/21755 */display: inline-block !important;position: relative;}#sk-container-id-3 div.sk-text-repr-fallback {display: none;}</style><div id=\"sk-container-id-3\" class=\"sk-top-container\"><div class=\"sk-text-repr-fallback\"><pre>LogisticRegression()</pre><b>In a Jupyter environment, please rerun this cell to show the HTML representation or trust the notebook. <br />On GitHub, the HTML representation is unable to render, please try loading this page with nbviewer.org.</b></div><div class=\"sk-container\" hidden><div class=\"sk-item\"><div class=\"sk-estimator sk-toggleable\"><input class=\"sk-toggleable__control sk-hidden--visually\" id=\"sk-estimator-id-3\" type=\"checkbox\" checked><label for=\"sk-estimator-id-3\" class=\"sk-toggleable__label sk-toggleable__label-arrow\">LogisticRegression</label><div class=\"sk-toggleable__content\"><pre>LogisticRegression()</pre></div></div></div></div></div>"
      ],
      "text/plain": [
       "LogisticRegression()"
      ]
     },
     "execution_count": 31,
     "metadata": {},
     "output_type": "execute_result"
    }
   ],
   "source": [
    "# Our training data is sent into LogisticRegression in this instance to train our model\n",
    "# LogisticRegression is used because of its simplicity and efficiency since it is a simple linear model, which means \n",
    "# it is computationally efficient and easy to implement.\n",
    "\n",
    "lrm = LogisticRegression()\n",
    "lrm.fit(X_train, Y_train)"
   ]
  },
  {
   "cell_type": "markdown",
   "id": "fb5bd10d",
   "metadata": {},
   "source": [
    "## Model Evaluation\n",
    "\n",
    "#### In here, several operations will be perform such as:\n",
    "    - Accuracy Score\n",
    "    - Confusion Matrix\n",
    "    - Classification Report"
   ]
  },
  {
   "cell_type": "code",
   "execution_count": 32,
   "id": "241432b8",
   "metadata": {},
   "outputs": [
    {
     "data": {
      "text/plain": [
       "0.9063814056651726"
      ]
     },
     "execution_count": 32,
     "metadata": {},
     "output_type": "execute_result"
    }
   ],
   "source": [
    "# Calculating the model accuracy for the first model trained - RandomForestClassifier\n",
    "\n",
    "y_pred = rf.predict(x_test)\n",
    "rf.score(x_test, y_test)"
   ]
  },
  {
   "cell_type": "code",
   "execution_count": 33,
   "id": "c5e5459a",
   "metadata": {},
   "outputs": [
    {
     "data": {
      "text/plain": [
       "0.8697379973199021"
      ]
     },
     "execution_count": 33,
     "metadata": {},
     "output_type": "execute_result"
    }
   ],
   "source": [
    "# Calculating the model accuracy for the second model trained - DecisionTreeClassifier\n",
    "\n",
    "y_pre = model.predict(x_test)\n",
    "model.score(x_test, y_test)"
   ]
  },
  {
   "cell_type": "code",
   "execution_count": 34,
   "id": "dd190e2c",
   "metadata": {},
   "outputs": [
    {
     "data": {
      "text/plain": [
       "0.901298461254101"
      ]
     },
     "execution_count": 34,
     "metadata": {},
     "output_type": "execute_result"
    }
   ],
   "source": [
    "# Calculating the model accuracy for the third model trained - LogisticRegression\n",
    "\n",
    "pred = lrm.predict(x_test)\n",
    "lrm.score(x_test, y_test)"
   ]
  },
  {
   "cell_type": "code",
   "execution_count": 35,
   "id": "5bd13957",
   "metadata": {},
   "outputs": [],
   "source": [
    "# Creating a class to evaluate the trained model with three different evaluation metrics, Accuracy Score, Confusion\n",
    "# Matrix, and Classification Report \n",
    "\n",
    "class Evaluation:\n",
    "    \n",
    "    def __init__(self, model, X_train, x_test, Y_train, y_test):\n",
    "        self.model = model\n",
    "        self.x_train = X_train\n",
    "        self.x_test = x_test\n",
    "        self.y_train = Y_train\n",
    "        self.y_test = y_test\n",
    "        \n",
    "    def test_evaluation(self):\n",
    "        y_pred_test = self.model.predict(self.x_test)\n",
    "        \n",
    "        # Calculating the accuracy score base on the test data and the predicted data\n",
    "        acc_scr_test = accuracy_score(self.y_test, y_pred_test)\n",
    "        print(\"Accuracy Score On Testing Data Set:\", acc_scr_test)\n",
    "        print()\n",
    "        \n",
    "        # Calculating the confusion matrix base on the test data and the predicted data\n",
    "        con_mat_test = confusion_matrix(self.y_test, y_pred_test)\n",
    "        print(\"Confusion Matrix On Testing Data Set:\\n\", con_mat_test)\n",
    "        print()\n",
    "        \n",
    "        # Calculating the classification report base on the test data and the predicted data\n",
    "        class_rep_test = classification_report(self.y_test, y_pred_test)\n",
    "        print(\"Classification Report On Testing Data Set:\\n\", class_rep_test)"
   ]
  },
  {
   "cell_type": "code",
   "execution_count": 36,
   "id": "eef567b3",
   "metadata": {},
   "outputs": [
    {
     "name": "stdout",
     "output_type": "stream",
     "text": [
      "Accuracy Score On Testing Data Set: 0.9063814056651726\n",
      "\n",
      "Confusion Matrix On Testing Data Set:\n",
      " [[ 9385  1124]\n",
      " [  902 10230]]\n",
      "\n",
      "Classification Report On Testing Data Set:\n",
      "               precision    recall  f1-score   support\n",
      "\n",
      "           0       0.91      0.89      0.90     10509\n",
      "           1       0.90      0.92      0.91     11132\n",
      "\n",
      "    accuracy                           0.91     21641\n",
      "   macro avg       0.91      0.91      0.91     21641\n",
      "weighted avg       0.91      0.91      0.91     21641\n",
      "\n"
     ]
    }
   ],
   "source": [
    "# Model evaluation for the first trained model - RandomForestClassifier()\n",
    "\n",
    "evaluation = Evaluation(rf, X_train, x_test, Y_train, y_test)\n",
    "evaluation.test_evaluation()"
   ]
  },
  {
   "cell_type": "code",
   "execution_count": 37,
   "id": "af0e488e",
   "metadata": {},
   "outputs": [
    {
     "name": "stdout",
     "output_type": "stream",
     "text": [
      "Accuracy Score On Testing Data Set: 0.8697379973199021\n",
      "\n",
      "Confusion Matrix On Testing Data Set:\n",
      " [[9043 1466]\n",
      " [1353 9779]]\n",
      "\n",
      "Classification Report On Testing Data Set:\n",
      "               precision    recall  f1-score   support\n",
      "\n",
      "           0       0.87      0.86      0.87     10509\n",
      "           1       0.87      0.88      0.87     11132\n",
      "\n",
      "    accuracy                           0.87     21641\n",
      "   macro avg       0.87      0.87      0.87     21641\n",
      "weighted avg       0.87      0.87      0.87     21641\n",
      "\n"
     ]
    }
   ],
   "source": [
    "# Model evaluation for the second trained model - DecisionTreeClassifier()\n",
    "\n",
    "evaluation = Evaluation(model, X_train, x_test, Y_train, y_test)\n",
    "evaluation.test_evaluation()"
   ]
  },
  {
   "cell_type": "code",
   "execution_count": 38,
   "id": "5b9f7392",
   "metadata": {},
   "outputs": [
    {
     "name": "stdout",
     "output_type": "stream",
     "text": [
      "Accuracy Score On Testing Data Set: 0.901298461254101\n",
      "\n",
      "Confusion Matrix On Testing Data Set:\n",
      " [[ 9287  1222]\n",
      " [  914 10218]]\n",
      "\n",
      "Classification Report On Testing Data Set:\n",
      "               precision    recall  f1-score   support\n",
      "\n",
      "           0       0.91      0.88      0.90     10509\n",
      "           1       0.89      0.92      0.91     11132\n",
      "\n",
      "    accuracy                           0.90     21641\n",
      "   macro avg       0.90      0.90      0.90     21641\n",
      "weighted avg       0.90      0.90      0.90     21641\n",
      "\n"
     ]
    }
   ],
   "source": [
    "# Model evaluation for the third trained model - DecisionTreeClassifier()\n",
    "\n",
    "evaluation = Evaluation(lrm, X_train, x_test, Y_train, y_test)\n",
    "evaluation.test_evaluation()"
   ]
  },
  {
   "cell_type": "markdown",
   "id": "5390b473",
   "metadata": {},
   "source": [
    "## Model Building - With A Train Test Split Ratio 8:2\n",
    "\n",
    "#### In here, several operations will be perform such as:\n",
    "    - Train Test Split\n",
    "    - Model Object Initialization\n",
    "    - Training and Testing of Model"
   ]
  },
  {
   "cell_type": "markdown",
   "id": "d3c9c4ad",
   "metadata": {},
   "source": [
    "#### Train Test Split"
   ]
  },
  {
   "cell_type": "code",
   "execution_count": 39,
   "id": "83778abf",
   "metadata": {},
   "outputs": [],
   "source": [
    "# Use train_test_split() function to split our data into 80% for training and 20% for testing\n",
    "\n",
    "x_train, X_test, y_train, Y_test = train_test_split(x, y, test_size = 0.2, random_state = 50, stratify = y)"
   ]
  },
  {
   "cell_type": "code",
   "execution_count": 40,
   "id": "a8f10c8a",
   "metadata": {},
   "outputs": [
    {
     "data": {
      "text/plain": [
       "(57707, 57707)"
      ]
     },
     "execution_count": 40,
     "metadata": {},
     "output_type": "execute_result"
    }
   ],
   "source": [
    "len(x_train), len(y_train)"
   ]
  },
  {
   "cell_type": "code",
   "execution_count": 41,
   "id": "6caa0bdc",
   "metadata": {},
   "outputs": [
    {
     "data": {
      "text/plain": [
       "(14427, 14427)"
      ]
     },
     "execution_count": 41,
     "metadata": {},
     "output_type": "execute_result"
    }
   ],
   "source": [
    "len(X_test), len(Y_test)"
   ]
  },
  {
   "cell_type": "markdown",
   "id": "b5a2b41b",
   "metadata": {},
   "source": [
    "#### Model Object Initialization - RandomForestClassifier()"
   ]
  },
  {
   "cell_type": "code",
   "execution_count": 42,
   "id": "4a3a3adf",
   "metadata": {},
   "outputs": [
    {
     "data": {
      "text/html": [
       "<style>#sk-container-id-4 {color: black;}#sk-container-id-4 pre{padding: 0;}#sk-container-id-4 div.sk-toggleable {background-color: white;}#sk-container-id-4 label.sk-toggleable__label {cursor: pointer;display: block;width: 100%;margin-bottom: 0;padding: 0.3em;box-sizing: border-box;text-align: center;}#sk-container-id-4 label.sk-toggleable__label-arrow:before {content: \"▸\";float: left;margin-right: 0.25em;color: #696969;}#sk-container-id-4 label.sk-toggleable__label-arrow:hover:before {color: black;}#sk-container-id-4 div.sk-estimator:hover label.sk-toggleable__label-arrow:before {color: black;}#sk-container-id-4 div.sk-toggleable__content {max-height: 0;max-width: 0;overflow: hidden;text-align: left;background-color: #f0f8ff;}#sk-container-id-4 div.sk-toggleable__content pre {margin: 0.2em;color: black;border-radius: 0.25em;background-color: #f0f8ff;}#sk-container-id-4 input.sk-toggleable__control:checked~div.sk-toggleable__content {max-height: 200px;max-width: 100%;overflow: auto;}#sk-container-id-4 input.sk-toggleable__control:checked~label.sk-toggleable__label-arrow:before {content: \"▾\";}#sk-container-id-4 div.sk-estimator input.sk-toggleable__control:checked~label.sk-toggleable__label {background-color: #d4ebff;}#sk-container-id-4 div.sk-label input.sk-toggleable__control:checked~label.sk-toggleable__label {background-color: #d4ebff;}#sk-container-id-4 input.sk-hidden--visually {border: 0;clip: rect(1px 1px 1px 1px);clip: rect(1px, 1px, 1px, 1px);height: 1px;margin: -1px;overflow: hidden;padding: 0;position: absolute;width: 1px;}#sk-container-id-4 div.sk-estimator {font-family: monospace;background-color: #f0f8ff;border: 1px dotted black;border-radius: 0.25em;box-sizing: border-box;margin-bottom: 0.5em;}#sk-container-id-4 div.sk-estimator:hover {background-color: #d4ebff;}#sk-container-id-4 div.sk-parallel-item::after {content: \"\";width: 100%;border-bottom: 1px solid gray;flex-grow: 1;}#sk-container-id-4 div.sk-label:hover label.sk-toggleable__label {background-color: #d4ebff;}#sk-container-id-4 div.sk-serial::before {content: \"\";position: absolute;border-left: 1px solid gray;box-sizing: border-box;top: 0;bottom: 0;left: 50%;z-index: 0;}#sk-container-id-4 div.sk-serial {display: flex;flex-direction: column;align-items: center;background-color: white;padding-right: 0.2em;padding-left: 0.2em;position: relative;}#sk-container-id-4 div.sk-item {position: relative;z-index: 1;}#sk-container-id-4 div.sk-parallel {display: flex;align-items: stretch;justify-content: center;background-color: white;position: relative;}#sk-container-id-4 div.sk-item::before, #sk-container-id-4 div.sk-parallel-item::before {content: \"\";position: absolute;border-left: 1px solid gray;box-sizing: border-box;top: 0;bottom: 0;left: 50%;z-index: -1;}#sk-container-id-4 div.sk-parallel-item {display: flex;flex-direction: column;z-index: 1;position: relative;background-color: white;}#sk-container-id-4 div.sk-parallel-item:first-child::after {align-self: flex-end;width: 50%;}#sk-container-id-4 div.sk-parallel-item:last-child::after {align-self: flex-start;width: 50%;}#sk-container-id-4 div.sk-parallel-item:only-child::after {width: 0;}#sk-container-id-4 div.sk-dashed-wrapped {border: 1px dashed gray;margin: 0 0.4em 0.5em 0.4em;box-sizing: border-box;padding-bottom: 0.4em;background-color: white;}#sk-container-id-4 div.sk-label label {font-family: monospace;font-weight: bold;display: inline-block;line-height: 1.2em;}#sk-container-id-4 div.sk-label-container {text-align: center;}#sk-container-id-4 div.sk-container {/* jupyter's `normalize.less` sets `[hidden] { display: none; }` but bootstrap.min.css set `[hidden] { display: none !important; }` so we also need the `!important` here to be able to override the default hidden behavior on the sphinx rendered scikit-learn.org. See: https://github.com/scikit-learn/scikit-learn/issues/21755 */display: inline-block !important;position: relative;}#sk-container-id-4 div.sk-text-repr-fallback {display: none;}</style><div id=\"sk-container-id-4\" class=\"sk-top-container\"><div class=\"sk-text-repr-fallback\"><pre>RandomForestClassifier()</pre><b>In a Jupyter environment, please rerun this cell to show the HTML representation or trust the notebook. <br />On GitHub, the HTML representation is unable to render, please try loading this page with nbviewer.org.</b></div><div class=\"sk-container\" hidden><div class=\"sk-item\"><div class=\"sk-estimator sk-toggleable\"><input class=\"sk-toggleable__control sk-hidden--visually\" id=\"sk-estimator-id-4\" type=\"checkbox\" checked><label for=\"sk-estimator-id-4\" class=\"sk-toggleable__label sk-toggleable__label-arrow\">RandomForestClassifier</label><div class=\"sk-toggleable__content\"><pre>RandomForestClassifier()</pre></div></div></div></div></div>"
      ],
      "text/plain": [
       "RandomForestClassifier()"
      ]
     },
     "execution_count": 42,
     "metadata": {},
     "output_type": "execute_result"
    }
   ],
   "source": [
    "# Our training data is sent into RandomForestClassifier in this instance to train our model \n",
    "# RandomForestClassifier is used because it's a popular machine learning model that can be used for a wide range of \n",
    "# classification tasks, including fake news detection\n",
    "\n",
    "rfc = RandomForestClassifier()\n",
    "rfc.fit(x_train, y_train)"
   ]
  },
  {
   "cell_type": "markdown",
   "id": "f915ecf4",
   "metadata": {},
   "source": [
    "#### Model Object Initialization - DecisionTreeClassifier()"
   ]
  },
  {
   "cell_type": "code",
   "execution_count": 43,
   "id": "f888642d",
   "metadata": {},
   "outputs": [
    {
     "data": {
      "text/html": [
       "<style>#sk-container-id-5 {color: black;}#sk-container-id-5 pre{padding: 0;}#sk-container-id-5 div.sk-toggleable {background-color: white;}#sk-container-id-5 label.sk-toggleable__label {cursor: pointer;display: block;width: 100%;margin-bottom: 0;padding: 0.3em;box-sizing: border-box;text-align: center;}#sk-container-id-5 label.sk-toggleable__label-arrow:before {content: \"▸\";float: left;margin-right: 0.25em;color: #696969;}#sk-container-id-5 label.sk-toggleable__label-arrow:hover:before {color: black;}#sk-container-id-5 div.sk-estimator:hover label.sk-toggleable__label-arrow:before {color: black;}#sk-container-id-5 div.sk-toggleable__content {max-height: 0;max-width: 0;overflow: hidden;text-align: left;background-color: #f0f8ff;}#sk-container-id-5 div.sk-toggleable__content pre {margin: 0.2em;color: black;border-radius: 0.25em;background-color: #f0f8ff;}#sk-container-id-5 input.sk-toggleable__control:checked~div.sk-toggleable__content {max-height: 200px;max-width: 100%;overflow: auto;}#sk-container-id-5 input.sk-toggleable__control:checked~label.sk-toggleable__label-arrow:before {content: \"▾\";}#sk-container-id-5 div.sk-estimator input.sk-toggleable__control:checked~label.sk-toggleable__label {background-color: #d4ebff;}#sk-container-id-5 div.sk-label input.sk-toggleable__control:checked~label.sk-toggleable__label {background-color: #d4ebff;}#sk-container-id-5 input.sk-hidden--visually {border: 0;clip: rect(1px 1px 1px 1px);clip: rect(1px, 1px, 1px, 1px);height: 1px;margin: -1px;overflow: hidden;padding: 0;position: absolute;width: 1px;}#sk-container-id-5 div.sk-estimator {font-family: monospace;background-color: #f0f8ff;border: 1px dotted black;border-radius: 0.25em;box-sizing: border-box;margin-bottom: 0.5em;}#sk-container-id-5 div.sk-estimator:hover {background-color: #d4ebff;}#sk-container-id-5 div.sk-parallel-item::after {content: \"\";width: 100%;border-bottom: 1px solid gray;flex-grow: 1;}#sk-container-id-5 div.sk-label:hover label.sk-toggleable__label {background-color: #d4ebff;}#sk-container-id-5 div.sk-serial::before {content: \"\";position: absolute;border-left: 1px solid gray;box-sizing: border-box;top: 0;bottom: 0;left: 50%;z-index: 0;}#sk-container-id-5 div.sk-serial {display: flex;flex-direction: column;align-items: center;background-color: white;padding-right: 0.2em;padding-left: 0.2em;position: relative;}#sk-container-id-5 div.sk-item {position: relative;z-index: 1;}#sk-container-id-5 div.sk-parallel {display: flex;align-items: stretch;justify-content: center;background-color: white;position: relative;}#sk-container-id-5 div.sk-item::before, #sk-container-id-5 div.sk-parallel-item::before {content: \"\";position: absolute;border-left: 1px solid gray;box-sizing: border-box;top: 0;bottom: 0;left: 50%;z-index: -1;}#sk-container-id-5 div.sk-parallel-item {display: flex;flex-direction: column;z-index: 1;position: relative;background-color: white;}#sk-container-id-5 div.sk-parallel-item:first-child::after {align-self: flex-end;width: 50%;}#sk-container-id-5 div.sk-parallel-item:last-child::after {align-self: flex-start;width: 50%;}#sk-container-id-5 div.sk-parallel-item:only-child::after {width: 0;}#sk-container-id-5 div.sk-dashed-wrapped {border: 1px dashed gray;margin: 0 0.4em 0.5em 0.4em;box-sizing: border-box;padding-bottom: 0.4em;background-color: white;}#sk-container-id-5 div.sk-label label {font-family: monospace;font-weight: bold;display: inline-block;line-height: 1.2em;}#sk-container-id-5 div.sk-label-container {text-align: center;}#sk-container-id-5 div.sk-container {/* jupyter's `normalize.less` sets `[hidden] { display: none; }` but bootstrap.min.css set `[hidden] { display: none !important; }` so we also need the `!important` here to be able to override the default hidden behavior on the sphinx rendered scikit-learn.org. See: https://github.com/scikit-learn/scikit-learn/issues/21755 */display: inline-block !important;position: relative;}#sk-container-id-5 div.sk-text-repr-fallback {display: none;}</style><div id=\"sk-container-id-5\" class=\"sk-top-container\"><div class=\"sk-text-repr-fallback\"><pre>DecisionTreeClassifier()</pre><b>In a Jupyter environment, please rerun this cell to show the HTML representation or trust the notebook. <br />On GitHub, the HTML representation is unable to render, please try loading this page with nbviewer.org.</b></div><div class=\"sk-container\" hidden><div class=\"sk-item\"><div class=\"sk-estimator sk-toggleable\"><input class=\"sk-toggleable__control sk-hidden--visually\" id=\"sk-estimator-id-5\" type=\"checkbox\" checked><label for=\"sk-estimator-id-5\" class=\"sk-toggleable__label sk-toggleable__label-arrow\">DecisionTreeClassifier</label><div class=\"sk-toggleable__content\"><pre>DecisionTreeClassifier()</pre></div></div></div></div></div>"
      ],
      "text/plain": [
       "DecisionTreeClassifier()"
      ]
     },
     "execution_count": 43,
     "metadata": {},
     "output_type": "execute_result"
    }
   ],
   "source": [
    "# Our training data is sent into DecisionTreeClassifier in this instance to train our model \n",
    "# DecisionTreeClassifier is used because it is a relatively simple model and are less prone to overfitting when the \n",
    "# depth of the tree is appropriately controlled.\n",
    "\n",
    "mdl = DecisionTreeClassifier()\n",
    "mdl.fit(x_train, y_train)"
   ]
  },
  {
   "cell_type": "markdown",
   "id": "67224dba",
   "metadata": {},
   "source": [
    "#### Model Object Initialization - LogisticRegression()"
   ]
  },
  {
   "cell_type": "code",
   "execution_count": 44,
   "id": "72894c33",
   "metadata": {},
   "outputs": [
    {
     "data": {
      "text/html": [
       "<style>#sk-container-id-6 {color: black;}#sk-container-id-6 pre{padding: 0;}#sk-container-id-6 div.sk-toggleable {background-color: white;}#sk-container-id-6 label.sk-toggleable__label {cursor: pointer;display: block;width: 100%;margin-bottom: 0;padding: 0.3em;box-sizing: border-box;text-align: center;}#sk-container-id-6 label.sk-toggleable__label-arrow:before {content: \"▸\";float: left;margin-right: 0.25em;color: #696969;}#sk-container-id-6 label.sk-toggleable__label-arrow:hover:before {color: black;}#sk-container-id-6 div.sk-estimator:hover label.sk-toggleable__label-arrow:before {color: black;}#sk-container-id-6 div.sk-toggleable__content {max-height: 0;max-width: 0;overflow: hidden;text-align: left;background-color: #f0f8ff;}#sk-container-id-6 div.sk-toggleable__content pre {margin: 0.2em;color: black;border-radius: 0.25em;background-color: #f0f8ff;}#sk-container-id-6 input.sk-toggleable__control:checked~div.sk-toggleable__content {max-height: 200px;max-width: 100%;overflow: auto;}#sk-container-id-6 input.sk-toggleable__control:checked~label.sk-toggleable__label-arrow:before {content: \"▾\";}#sk-container-id-6 div.sk-estimator input.sk-toggleable__control:checked~label.sk-toggleable__label {background-color: #d4ebff;}#sk-container-id-6 div.sk-label input.sk-toggleable__control:checked~label.sk-toggleable__label {background-color: #d4ebff;}#sk-container-id-6 input.sk-hidden--visually {border: 0;clip: rect(1px 1px 1px 1px);clip: rect(1px, 1px, 1px, 1px);height: 1px;margin: -1px;overflow: hidden;padding: 0;position: absolute;width: 1px;}#sk-container-id-6 div.sk-estimator {font-family: monospace;background-color: #f0f8ff;border: 1px dotted black;border-radius: 0.25em;box-sizing: border-box;margin-bottom: 0.5em;}#sk-container-id-6 div.sk-estimator:hover {background-color: #d4ebff;}#sk-container-id-6 div.sk-parallel-item::after {content: \"\";width: 100%;border-bottom: 1px solid gray;flex-grow: 1;}#sk-container-id-6 div.sk-label:hover label.sk-toggleable__label {background-color: #d4ebff;}#sk-container-id-6 div.sk-serial::before {content: \"\";position: absolute;border-left: 1px solid gray;box-sizing: border-box;top: 0;bottom: 0;left: 50%;z-index: 0;}#sk-container-id-6 div.sk-serial {display: flex;flex-direction: column;align-items: center;background-color: white;padding-right: 0.2em;padding-left: 0.2em;position: relative;}#sk-container-id-6 div.sk-item {position: relative;z-index: 1;}#sk-container-id-6 div.sk-parallel {display: flex;align-items: stretch;justify-content: center;background-color: white;position: relative;}#sk-container-id-6 div.sk-item::before, #sk-container-id-6 div.sk-parallel-item::before {content: \"\";position: absolute;border-left: 1px solid gray;box-sizing: border-box;top: 0;bottom: 0;left: 50%;z-index: -1;}#sk-container-id-6 div.sk-parallel-item {display: flex;flex-direction: column;z-index: 1;position: relative;background-color: white;}#sk-container-id-6 div.sk-parallel-item:first-child::after {align-self: flex-end;width: 50%;}#sk-container-id-6 div.sk-parallel-item:last-child::after {align-self: flex-start;width: 50%;}#sk-container-id-6 div.sk-parallel-item:only-child::after {width: 0;}#sk-container-id-6 div.sk-dashed-wrapped {border: 1px dashed gray;margin: 0 0.4em 0.5em 0.4em;box-sizing: border-box;padding-bottom: 0.4em;background-color: white;}#sk-container-id-6 div.sk-label label {font-family: monospace;font-weight: bold;display: inline-block;line-height: 1.2em;}#sk-container-id-6 div.sk-label-container {text-align: center;}#sk-container-id-6 div.sk-container {/* jupyter's `normalize.less` sets `[hidden] { display: none; }` but bootstrap.min.css set `[hidden] { display: none !important; }` so we also need the `!important` here to be able to override the default hidden behavior on the sphinx rendered scikit-learn.org. See: https://github.com/scikit-learn/scikit-learn/issues/21755 */display: inline-block !important;position: relative;}#sk-container-id-6 div.sk-text-repr-fallback {display: none;}</style><div id=\"sk-container-id-6\" class=\"sk-top-container\"><div class=\"sk-text-repr-fallback\"><pre>LogisticRegression()</pre><b>In a Jupyter environment, please rerun this cell to show the HTML representation or trust the notebook. <br />On GitHub, the HTML representation is unable to render, please try loading this page with nbviewer.org.</b></div><div class=\"sk-container\" hidden><div class=\"sk-item\"><div class=\"sk-estimator sk-toggleable\"><input class=\"sk-toggleable__control sk-hidden--visually\" id=\"sk-estimator-id-6\" type=\"checkbox\" checked><label for=\"sk-estimator-id-6\" class=\"sk-toggleable__label sk-toggleable__label-arrow\">LogisticRegression</label><div class=\"sk-toggleable__content\"><pre>LogisticRegression()</pre></div></div></div></div></div>"
      ],
      "text/plain": [
       "LogisticRegression()"
      ]
     },
     "execution_count": 44,
     "metadata": {},
     "output_type": "execute_result"
    }
   ],
   "source": [
    "# Our training data is sent into LogisticRegression in this instance to train our model \n",
    "# LogisticRegression is used because of its simplicity and efficiency since it is a simple linear model, which means \n",
    "# it is computationally efficient and easy to implement.\n",
    "\n",
    "lr = LogisticRegression()\n",
    "lr.fit(x_train, y_train)"
   ]
  },
  {
   "cell_type": "markdown",
   "id": "061664fe",
   "metadata": {},
   "source": [
    "## Model Evaluation\n",
    "\n",
    "#### In here, several operations will be perform such as:\n",
    "    - Accuracy Score\n",
    "    - Confusion Matrix\n",
    "    - Classification Report"
   ]
  },
  {
   "cell_type": "code",
   "execution_count": 45,
   "id": "ccb37b69",
   "metadata": {},
   "outputs": [
    {
     "data": {
      "text/plain": [
       "0.9078117418728773"
      ]
     },
     "execution_count": 45,
     "metadata": {},
     "output_type": "execute_result"
    }
   ],
   "source": [
    "# Calculating the model accuracy for the first model trained - RandomForestClassifier\n",
    "\n",
    "y_prd = rfc.predict(X_test)\n",
    "rfc.score(X_test, Y_test)"
   ]
  },
  {
   "cell_type": "code",
   "execution_count": 46,
   "id": "4ef9d01f",
   "metadata": {},
   "outputs": [
    {
     "data": {
      "text/plain": [
       "0.8714909544603868"
      ]
     },
     "execution_count": 46,
     "metadata": {},
     "output_type": "execute_result"
    }
   ],
   "source": [
    "# Calculating the model accuracy for the second model trained - DecisionTreeClassifier\n",
    "\n",
    "y_pr = mdl.predict(X_test)\n",
    "mdl.score(X_test, Y_test)"
   ]
  },
  {
   "cell_type": "code",
   "execution_count": 47,
   "id": "5dd9dbfc",
   "metadata": {},
   "outputs": [
    {
     "data": {
      "text/plain": [
       "0.9027517848478547"
      ]
     },
     "execution_count": 47,
     "metadata": {},
     "output_type": "execute_result"
    }
   ],
   "source": [
    "# Calculating the model accuracy for the third model trained - LogisticRegression\n",
    "\n",
    "prediction = lr.predict(X_test)\n",
    "lr.score(X_test, Y_test)"
   ]
  },
  {
   "cell_type": "code",
   "execution_count": 48,
   "id": "7bd1d278",
   "metadata": {},
   "outputs": [
    {
     "name": "stdout",
     "output_type": "stream",
     "text": [
      "Accuracy Score On Testing Data Set: 0.9078117418728773\n",
      "\n",
      "Confusion Matrix On Testing Data Set:\n",
      " [[6248  758]\n",
      " [ 572 6849]]\n",
      "\n",
      "Classification Report On Testing Data Set:\n",
      "               precision    recall  f1-score   support\n",
      "\n",
      "           0       0.92      0.89      0.90      7006\n",
      "           1       0.90      0.92      0.91      7421\n",
      "\n",
      "    accuracy                           0.91     14427\n",
      "   macro avg       0.91      0.91      0.91     14427\n",
      "weighted avg       0.91      0.91      0.91     14427\n",
      "\n"
     ]
    }
   ],
   "source": [
    "# Model evaluation for the first trained model - RandomForestClassifier()\n",
    "\n",
    "evaluation = Evaluation(rfc, x_train, X_test, y_train, Y_test)\n",
    "evaluation.test_evaluation()"
   ]
  },
  {
   "cell_type": "code",
   "execution_count": 49,
   "id": "a583407e",
   "metadata": {},
   "outputs": [
    {
     "name": "stdout",
     "output_type": "stream",
     "text": [
      "Accuracy Score On Testing Data Set: 0.8714909544603868\n",
      "\n",
      "Confusion Matrix On Testing Data Set:\n",
      " [[6041  965]\n",
      " [ 889 6532]]\n",
      "\n",
      "Classification Report On Testing Data Set:\n",
      "               precision    recall  f1-score   support\n",
      "\n",
      "           0       0.87      0.86      0.87      7006\n",
      "           1       0.87      0.88      0.88      7421\n",
      "\n",
      "    accuracy                           0.87     14427\n",
      "   macro avg       0.87      0.87      0.87     14427\n",
      "weighted avg       0.87      0.87      0.87     14427\n",
      "\n"
     ]
    }
   ],
   "source": [
    "# Model evaluation for the second trained model - DecisionTreeClassifier()\n",
    "\n",
    "evaluation = Evaluation(mdl, x_train, X_test, y_train, Y_test)\n",
    "evaluation.test_evaluation()"
   ]
  },
  {
   "cell_type": "code",
   "execution_count": 50,
   "id": "6f12b940",
   "metadata": {},
   "outputs": [
    {
     "name": "stdout",
     "output_type": "stream",
     "text": [
      "Accuracy Score On Testing Data Set: 0.9027517848478547\n",
      "\n",
      "Confusion Matrix On Testing Data Set:\n",
      " [[6188  818]\n",
      " [ 585 6836]]\n",
      "\n",
      "Classification Report On Testing Data Set:\n",
      "               precision    recall  f1-score   support\n",
      "\n",
      "           0       0.91      0.88      0.90      7006\n",
      "           1       0.89      0.92      0.91      7421\n",
      "\n",
      "    accuracy                           0.90     14427\n",
      "   macro avg       0.90      0.90      0.90     14427\n",
      "weighted avg       0.90      0.90      0.90     14427\n",
      "\n"
     ]
    }
   ],
   "source": [
    "# Model evaluation for the second trained model - LogisticRegression()\n",
    "\n",
    "evaluation = Evaluation(lr, x_train, X_test, y_train, Y_test)\n",
    "evaluation.test_evaluation()"
   ]
  },
  {
   "cell_type": "code",
   "execution_count": 51,
   "id": "3cccc5c4",
   "metadata": {
    "scrolled": false
   },
   "outputs": [
    {
     "name": "stdout",
     "output_type": "stream",
     "text": [
      "\u001b[1mThe Below Evaluation Will Be Based On A Train Test Split Ratio Of 7:3 \n",
      "\u001b[0m\n",
      "\u001b[1mRandomForestClassifier\u001b[0m\n",
      "Accuracy Score On Testing Data Set: 0.9063814056651726\n",
      "\n",
      "Confusion Matrix On Testing Data Set:\n",
      " [[ 9385  1124]\n",
      " [  902 10230]]\n",
      "\n",
      "Classification Report On Testing Data Set:\n",
      "               precision    recall  f1-score   support\n",
      "\n",
      "           0       0.91      0.89      0.90     10509\n",
      "           1       0.90      0.92      0.91     11132\n",
      "\n",
      "    accuracy                           0.91     21641\n",
      "   macro avg       0.91      0.91      0.91     21641\n",
      "weighted avg       0.91      0.91      0.91     21641\n",
      "\n",
      "\u001b[1m\n",
      "DecisionTreeClassifier\u001b[0m\n",
      "Accuracy Score On Testing Data Set: 0.8697379973199021\n",
      "\n",
      "Confusion Matrix On Testing Data Set:\n",
      " [[9043 1466]\n",
      " [1353 9779]]\n",
      "\n",
      "Classification Report On Testing Data Set:\n",
      "               precision    recall  f1-score   support\n",
      "\n",
      "           0       0.87      0.86      0.87     10509\n",
      "           1       0.87      0.88      0.87     11132\n",
      "\n",
      "    accuracy                           0.87     21641\n",
      "   macro avg       0.87      0.87      0.87     21641\n",
      "weighted avg       0.87      0.87      0.87     21641\n",
      "\n",
      "\u001b[1m\n",
      "LogisticRegression\u001b[0m\n",
      "Accuracy Score On Testing Data Set: 0.901298461254101\n",
      "\n",
      "Confusion Matrix On Testing Data Set:\n",
      " [[ 9287  1222]\n",
      " [  914 10218]]\n",
      "\n",
      "Classification Report On Testing Data Set:\n",
      "               precision    recall  f1-score   support\n",
      "\n",
      "           0       0.91      0.88      0.90     10509\n",
      "           1       0.89      0.92      0.91     11132\n",
      "\n",
      "    accuracy                           0.90     21641\n",
      "   macro avg       0.90      0.90      0.90     21641\n",
      "weighted avg       0.90      0.90      0.90     21641\n",
      "\n",
      "\u001b[1m\n",
      "\n",
      "The Below Evaluation Will Be Based On A Train Test Split Ratio Of 8:2 \n",
      "\u001b[0m\n",
      "\u001b[1mRandomForestClassifier\u001b[0m\n",
      "Accuracy Score On Testing Data Set: 0.9078117418728773\n",
      "\n",
      "Confusion Matrix On Testing Data Set:\n",
      " [[6248  758]\n",
      " [ 572 6849]]\n",
      "\n",
      "Classification Report On Testing Data Set:\n",
      "               precision    recall  f1-score   support\n",
      "\n",
      "           0       0.92      0.89      0.90      7006\n",
      "           1       0.90      0.92      0.91      7421\n",
      "\n",
      "    accuracy                           0.91     14427\n",
      "   macro avg       0.91      0.91      0.91     14427\n",
      "weighted avg       0.91      0.91      0.91     14427\n",
      "\n",
      "\u001b[1m\n",
      "DecisionTreeClassifier\u001b[0m\n",
      "Accuracy Score On Testing Data Set: 0.8714909544603868\n",
      "\n",
      "Confusion Matrix On Testing Data Set:\n",
      " [[6041  965]\n",
      " [ 889 6532]]\n",
      "\n",
      "Classification Report On Testing Data Set:\n",
      "               precision    recall  f1-score   support\n",
      "\n",
      "           0       0.87      0.86      0.87      7006\n",
      "           1       0.87      0.88      0.88      7421\n",
      "\n",
      "    accuracy                           0.87     14427\n",
      "   macro avg       0.87      0.87      0.87     14427\n",
      "weighted avg       0.87      0.87      0.87     14427\n",
      "\n",
      "\u001b[1m\n",
      "LogisticRegression\u001b[0m\n",
      "Accuracy Score On Testing Data Set: 0.9027517848478547\n",
      "\n",
      "Confusion Matrix On Testing Data Set:\n",
      " [[6188  818]\n",
      " [ 585 6836]]\n",
      "\n",
      "Classification Report On Testing Data Set:\n",
      "               precision    recall  f1-score   support\n",
      "\n",
      "           0       0.91      0.88      0.90      7006\n",
      "           1       0.89      0.92      0.91      7421\n",
      "\n",
      "    accuracy                           0.90     14427\n",
      "   macro avg       0.90      0.90      0.90     14427\n",
      "weighted avg       0.90      0.90      0.90     14427\n",
      "\n",
      "\u001b[1m\n",
      "\n",
      "∴ We can notice that the model with the highest accuracy is RandomForestClassifier with a 8:2 Train Test Split Ratio \u001b[0m\n"
     ]
    }
   ],
   "source": [
    "print(\"\\033[1mThe Below Evaluation Will Be Based On A Train Test Split Ratio Of 7:3 \\n\\033[0m\")\n",
    "# Model evaluation for the first trained model with 7:3 train test split ratio - RandomForestClassifier()\n",
    "print(\"\\033[1mRandomForestClassifier\\033[0m\")\n",
    "evaluation = Evaluation(rf, X_train, x_test, Y_train, y_test)\n",
    "evaluation.test_evaluation()\n",
    "\n",
    "# Model evaluation for the second trained model with 7:3 train test split ratio - DecisionTreeClassifier()\n",
    "print(\"\\033[1m\\nDecisionTreeClassifier\\033[0m\")\n",
    "evaluation = Evaluation(model, X_train, x_test, Y_train, y_test)\n",
    "evaluation.test_evaluation()\n",
    "\n",
    "# Model evaluation for the third trained model with 7:3 train test split ratio - LogisticRegression()\n",
    "print(\"\\033[1m\\nLogisticRegression\\033[0m\")\n",
    "evaluation = Evaluation(lrm, X_train, x_test, Y_train, y_test)\n",
    "evaluation.test_evaluation()\n",
    "\n",
    "\n",
    "print(\"\\033[1m\\n\\nThe Below Evaluation Will Be Based On A Train Test Split Ratio Of 8:2 \\n\\033[0m\")\n",
    "# Model evaluation for the first trained model with 8:2 train test split ratio - RandomForestClassifier()\n",
    "print(\"\\033[1mRandomForestClassifier\\033[0m\")\n",
    "evaluation = Evaluation(rfc, x_train, X_test, y_train, Y_test)\n",
    "evaluation.test_evaluation()\n",
    "\n",
    "# Model evaluation for the second trained model with 8:2 train test split ratio - DecisionTreeClassifier()\n",
    "print(\"\\033[1m\\nDecisionTreeClassifier\\033[0m\")\n",
    "evaluation = Evaluation(mdl, x_train, X_test, y_train, Y_test)\n",
    "evaluation.test_evaluation()\n",
    "\n",
    "# Model evaluation for the third trained model with 8:2 train test split ratio - LogisticRegression()\n",
    "print(\"\\033[1m\\nLogisticRegression\\033[0m\")\n",
    "evaluation = Evaluation(lr, x_train, X_test, y_train, Y_test)\n",
    "evaluation.test_evaluation()\n",
    "\n",
    "print(\"\\033[1m\\n\\n∴ We can notice that the model with the highest accuracy is RandomForestClassifier with a 8:2 Train Test Split Ratio \\033[0m\")"
   ]
  },
  {
   "cell_type": "markdown",
   "id": "d500cc17",
   "metadata": {},
   "source": [
    "## Prediction On Given Data"
   ]
  },
  {
   "cell_type": "code",
   "execution_count": 85,
   "id": "2e175703",
   "metadata": {},
   "outputs": [],
   "source": [
    "# Creating a function named lemmatization for Prediction Pipeline\n",
    "\n",
    "def lemmatization(content):\n",
    "    \n",
    "    # Using regular expression to search for a pattern in a given string\n",
    "    con = re.sub(\"a-zA-z0-9\", \" \", content)\n",
    "    \n",
    "    # Converting to lower case\n",
    "    con = con.lower()\n",
    "    \n",
    "    # Applying tokenization\n",
    "    con = con.split()\n",
    "    \n",
    "    # Removing stopwords\n",
    "    con = [lm.lemmatize(z) for z in con if z not in stopwords]\n",
    "    \n",
    "    # Joining the sentence after lemmatization is applied\n",
    "    con = \" \".join(con)\n",
    "    \n",
    "    # Return the value\n",
    "    return con"
   ]
  },
  {
   "cell_type": "code",
   "execution_count": 89,
   "id": "86b6e9b2",
   "metadata": {},
   "outputs": [],
   "source": [
    "# Store the pickle version of vector and the trained model\n",
    "pickle.dump(tf, open(\"vector.pkl\", \"wb\"))\n",
    "\n",
    "# Dumping the vector file of the model file\n",
    "pickle.dump(rfc, open(\"rfc.pkl\", \"wb\"))\n",
    "\n",
    "# Loading the pickle file \n",
    "vector_form = pickle.load(open(\"vector.pkl\", \"rb\"))\n",
    "\n",
    "# Loading the model file\n",
    "load_model = pickle.load(open(\"rfc.pkl\", \"rb\"))"
   ]
  },
  {
   "cell_type": "code",
   "execution_count": 90,
   "id": "1a14db60",
   "metadata": {},
   "outputs": [],
   "source": [
    "# Creating a function to classify whether the new is fake or real\n",
    "\n",
    "def fake_news(news):\n",
    "    news = lemmatization(news)\n",
    "    input_data = [news]\n",
    "    vector_form1 = vector_form.transform(input_data)\n",
    "    prediction = load_model.predict(vector_form1)\n",
    "    return prediction"
   ]
  },
  {
   "cell_type": "code",
   "execution_count": 95,
   "id": "7c587ba3",
   "metadata": {},
   "outputs": [],
   "source": [
    "val = fake_news(\"\"\" 'Bobby Jindal, raised Hindu, uses story of Christian conversion to woo evangelicals for potential 2016 bid' \"\"\")"
   ]
  },
  {
   "cell_type": "code",
   "execution_count": 96,
   "id": "292bca80",
   "metadata": {},
   "outputs": [
    {
     "name": "stdout",
     "output_type": "stream",
     "text": [
      "Reliable\n",
      "\n",
      "∴ It is \u001b[1mTRUE\u001b[0m that the news above is authentic\n"
     ]
    }
   ],
   "source": [
    "if val == [0]:\n",
    "    print(\"Reliable\")\n",
    "else:\n",
    "    print(\"Not Reliable\")\n",
    "    \n",
    "print(\"\\n∴ It is \\033[1mTRUE\\033[0m that the news above is authentic\")"
   ]
  },
  {
   "cell_type": "markdown",
   "id": "dc899f68",
   "metadata": {},
   "source": [
    "#### Comparing results obtained to existing research\n",
    "- As comparing to the existing research: https://ieeexplore.ieee.org/abstract/document/9797147/metrics#metrics\n",
    "    1. They claimed that of the five algorithms they used, which included Logistic Regression, Naïve Bayes, Support Vector Machine, Random Forest, and Decision Tree, the model trained with the highest accuracy to predict fake news was Naïve Bayes, followed by Decision Tree, and then Support Vector Machine, implying that Random Forest and Logistic Regression ranked fourth and last. However, the model trained in this project with the highest performance to predict fake news was RandomForestClassifier, with an accuracy of 90.8%, whereas DecisionTree scored only 87.1% which is the lowest among all models trained. "
   ]
  },
  {
   "cell_type": "markdown",
   "id": "94a9c30d",
   "metadata": {},
   "source": [
    "#### Challenges faced\n",
    "- Data preprocessing:\n",
    "    1. When I utilised stemming instead of lemmatization, I found out that it's not suitable since it is a more aggressive approach than lematization and can results in loss of some words meaning and context. Hence, during the data preprocessing phase, lemmatization was used instead of stemming"
   ]
  },
  {
   "cell_type": "markdown",
   "id": "13652d2e",
   "metadata": {},
   "source": [
    "#### Future work\n",
    "##### Potential avenues for future research or improvements:\n",
    "- Mutilmodal analysis\n",
    "    1. Expand the fake news detection model to handle multiple modalities, including text, images, videos, etc. Combining information from different modalities can improve the accuracy of fake news detection, as it can capture inconsistencies between textual content and accompanying media.\n",
    "- Transer learning \n",
    "    1. Leverage pre-trained language models (e.g., BERT) and fine-tune them on fake news detection task. Transfer learning can help the model perform better, especially when we have limited labeled data. \n",
    "\n",
    "##### Limitations of current approach:\n",
    "- Model selection \n",
    "    1. Using Random Forest, Logistic Regression, and Decision Tree models have their limitations. They may not capture complex patterns and relationships in the data as effectively as deep learning models.\n",
    "- Temporal aspect \n",
    "    1. Fake news evolves rapidly, and our models may not capture the most recent trends in misinformation. Hence, regular updates and retrain our models with fresh data is needed."
   ]
  },
  {
   "cell_type": "markdown",
   "id": "dacd0380",
   "metadata": {},
   "source": [
    "## Keyword Extraction\n",
    "\n",
    "#### In here, several operations will be perform such as:\n",
    "    - Data Preprocessing which includes:\n",
    "        - Regular Expression\n",
    "        - Lower Case\n",
    "    - Creating IDF\n",
    "    - TfidfTransformer (Use For Computing IDF)\n",
    "    - Computing TF-IDF"
   ]
  },
  {
   "cell_type": "markdown",
   "id": "b777f1c6",
   "metadata": {},
   "source": [
    "## Data Preprocessing"
   ]
  },
  {
   "cell_type": "code",
   "execution_count": 110,
   "id": "6abf9a96",
   "metadata": {},
   "outputs": [],
   "source": [
    "# Creating a function for text pre-processing\n",
    "\n",
    "def pre_process(text):\n",
    "    \n",
    "    # Using regular expression to search for a pattern in a given string\n",
    "    text = re.sub(\"a-zA-z0-9\", \" \", text)\n",
    "    \n",
    "    # Removing tags\n",
    "    text = re.sub(\"</?.*?>\", \" \", text)\n",
    "    \n",
    "    # Converting to lower case\n",
    "    text = text.lower()\n",
    "    \n",
    "    # Return the value\n",
    "    return text"
   ]
  },
  {
   "cell_type": "code",
   "execution_count": 111,
   "id": "84fa426e",
   "metadata": {},
   "outputs": [
    {
     "data": {
      "text/plain": [
       "'no textdid they post their votes for hillary already?'"
      ]
     },
     "execution_count": 111,
     "metadata": {},
     "output_type": "execute_result"
    }
   ],
   "source": [
    "data[\"txt\"] = data[\"title\"] + data[\"text\"]\n",
    "data[\"txt\"] = data[\"txt\"].apply(lambda x:pre_process(x))\n",
    "\n",
    "data[\"txt\"][1]"
   ]
  },
  {
   "cell_type": "markdown",
   "id": "7e303042",
   "metadata": {},
   "source": [
    "## Creating IDF - Using CountVectorizer To Create A Vocabulary And Generate Word Counts"
   ]
  },
  {
   "cell_type": "code",
   "execution_count": 112,
   "id": "db8b8d17",
   "metadata": {},
   "outputs": [],
   "source": [
    "# Creating a function to get stop words\n",
    "\n",
    "def get_stop_words(stop_file_path):\n",
    "    \"\"\" load stop words \"\"\"\n",
    "    \n",
    "    with open(stop_file_path, \"r\", encoding = \"utf-8\") as f:\n",
    "        stopwords = f.readlines()\n",
    "        stop_set = set(m.strip() for m in stopwords)\n",
    "        return frozenset(stop_set)\n",
    "\n",
    "# Getting the text column \n",
    "docs=data[\"text\"].tolist()\n",
    "\n",
    "# Create a vocabulary of words and ignored words that appear in 85% of documents\n",
    "\n",
    "cv = CountVectorizer(max_df = 0.85, stop_words = stopwords)\n",
    "word_count_vector = cv.fit_transform(docs)"
   ]
  },
  {
   "cell_type": "code",
   "execution_count": 113,
   "id": "3c04fcd9",
   "metadata": {},
   "outputs": [
    {
     "data": {
      "text/plain": [
       "(72134, 243356)"
      ]
     },
     "execution_count": 113,
     "metadata": {},
     "output_type": "execute_result"
    }
   ],
   "source": [
    "# Using .shape() to check the number of rows and columns \n",
    "\n",
    "word_count_vector.shape"
   ]
  },
  {
   "cell_type": "code",
   "execution_count": 114,
   "id": "5fc598bd",
   "metadata": {},
   "outputs": [
    {
     "data": {
      "text/plain": [
       "(72134, 20000)"
      ]
     },
     "execution_count": 114,
     "metadata": {},
     "output_type": "execute_result"
    }
   ],
   "source": [
    "# Limiting our vocabulary size to 50,000\n",
    "\n",
    "cv = CountVectorizer(max_df = 0.85, stop_words = stopwords, max_features=20000)\n",
    "word_count_vector = cv.fit_transform(docs)\n",
    "word_count_vector.shape"
   ]
  },
  {
   "cell_type": "markdown",
   "id": "a498c661",
   "metadata": {},
   "source": [
    "## TfidfTransformer - Use To Compute Inverse Document Frequency (IDF)"
   ]
  },
  {
   "cell_type": "code",
   "execution_count": 115,
   "id": "c1a8f3fb",
   "metadata": {},
   "outputs": [
    {
     "data": {
      "text/html": [
       "<style>#sk-container-id-8 {color: black;}#sk-container-id-8 pre{padding: 0;}#sk-container-id-8 div.sk-toggleable {background-color: white;}#sk-container-id-8 label.sk-toggleable__label {cursor: pointer;display: block;width: 100%;margin-bottom: 0;padding: 0.3em;box-sizing: border-box;text-align: center;}#sk-container-id-8 label.sk-toggleable__label-arrow:before {content: \"▸\";float: left;margin-right: 0.25em;color: #696969;}#sk-container-id-8 label.sk-toggleable__label-arrow:hover:before {color: black;}#sk-container-id-8 div.sk-estimator:hover label.sk-toggleable__label-arrow:before {color: black;}#sk-container-id-8 div.sk-toggleable__content {max-height: 0;max-width: 0;overflow: hidden;text-align: left;background-color: #f0f8ff;}#sk-container-id-8 div.sk-toggleable__content pre {margin: 0.2em;color: black;border-radius: 0.25em;background-color: #f0f8ff;}#sk-container-id-8 input.sk-toggleable__control:checked~div.sk-toggleable__content {max-height: 200px;max-width: 100%;overflow: auto;}#sk-container-id-8 input.sk-toggleable__control:checked~label.sk-toggleable__label-arrow:before {content: \"▾\";}#sk-container-id-8 div.sk-estimator input.sk-toggleable__control:checked~label.sk-toggleable__label {background-color: #d4ebff;}#sk-container-id-8 div.sk-label input.sk-toggleable__control:checked~label.sk-toggleable__label {background-color: #d4ebff;}#sk-container-id-8 input.sk-hidden--visually {border: 0;clip: rect(1px 1px 1px 1px);clip: rect(1px, 1px, 1px, 1px);height: 1px;margin: -1px;overflow: hidden;padding: 0;position: absolute;width: 1px;}#sk-container-id-8 div.sk-estimator {font-family: monospace;background-color: #f0f8ff;border: 1px dotted black;border-radius: 0.25em;box-sizing: border-box;margin-bottom: 0.5em;}#sk-container-id-8 div.sk-estimator:hover {background-color: #d4ebff;}#sk-container-id-8 div.sk-parallel-item::after {content: \"\";width: 100%;border-bottom: 1px solid gray;flex-grow: 1;}#sk-container-id-8 div.sk-label:hover label.sk-toggleable__label {background-color: #d4ebff;}#sk-container-id-8 div.sk-serial::before {content: \"\";position: absolute;border-left: 1px solid gray;box-sizing: border-box;top: 0;bottom: 0;left: 50%;z-index: 0;}#sk-container-id-8 div.sk-serial {display: flex;flex-direction: column;align-items: center;background-color: white;padding-right: 0.2em;padding-left: 0.2em;position: relative;}#sk-container-id-8 div.sk-item {position: relative;z-index: 1;}#sk-container-id-8 div.sk-parallel {display: flex;align-items: stretch;justify-content: center;background-color: white;position: relative;}#sk-container-id-8 div.sk-item::before, #sk-container-id-8 div.sk-parallel-item::before {content: \"\";position: absolute;border-left: 1px solid gray;box-sizing: border-box;top: 0;bottom: 0;left: 50%;z-index: -1;}#sk-container-id-8 div.sk-parallel-item {display: flex;flex-direction: column;z-index: 1;position: relative;background-color: white;}#sk-container-id-8 div.sk-parallel-item:first-child::after {align-self: flex-end;width: 50%;}#sk-container-id-8 div.sk-parallel-item:last-child::after {align-self: flex-start;width: 50%;}#sk-container-id-8 div.sk-parallel-item:only-child::after {width: 0;}#sk-container-id-8 div.sk-dashed-wrapped {border: 1px dashed gray;margin: 0 0.4em 0.5em 0.4em;box-sizing: border-box;padding-bottom: 0.4em;background-color: white;}#sk-container-id-8 div.sk-label label {font-family: monospace;font-weight: bold;display: inline-block;line-height: 1.2em;}#sk-container-id-8 div.sk-label-container {text-align: center;}#sk-container-id-8 div.sk-container {/* jupyter's `normalize.less` sets `[hidden] { display: none; }` but bootstrap.min.css set `[hidden] { display: none !important; }` so we also need the `!important` here to be able to override the default hidden behavior on the sphinx rendered scikit-learn.org. See: https://github.com/scikit-learn/scikit-learn/issues/21755 */display: inline-block !important;position: relative;}#sk-container-id-8 div.sk-text-repr-fallback {display: none;}</style><div id=\"sk-container-id-8\" class=\"sk-top-container\"><div class=\"sk-text-repr-fallback\"><pre>TfidfTransformer()</pre><b>In a Jupyter environment, please rerun this cell to show the HTML representation or trust the notebook. <br />On GitHub, the HTML representation is unable to render, please try loading this page with nbviewer.org.</b></div><div class=\"sk-container\" hidden><div class=\"sk-item\"><div class=\"sk-estimator sk-toggleable\"><input class=\"sk-toggleable__control sk-hidden--visually\" id=\"sk-estimator-id-8\" type=\"checkbox\" checked><label for=\"sk-estimator-id-8\" class=\"sk-toggleable__label sk-toggleable__label-arrow\">TfidfTransformer</label><div class=\"sk-toggleable__content\"><pre>TfidfTransformer()</pre></div></div></div></div></div>"
      ],
      "text/plain": [
       "TfidfTransformer()"
      ]
     },
     "execution_count": 115,
     "metadata": {},
     "output_type": "execute_result"
    }
   ],
   "source": [
    "tfidf_transformer = TfidfTransformer(smooth_idf = True, use_idf = True)\n",
    "tfidf_transformer.fit(word_count_vector)"
   ]
  },
  {
   "cell_type": "code",
   "execution_count": 116,
   "id": "e2f60287",
   "metadata": {},
   "outputs": [
    {
     "data": {
      "text/plain": [
       "array([5.62951629, 2.7827752 , 9.00824081, ..., 9.1417722 , 9.00824081,\n",
       "       8.9281981 ])"
      ]
     },
     "execution_count": 116,
     "metadata": {},
     "output_type": "execute_result"
    }
   ],
   "source": [
    "tfidf_transformer.idf_"
   ]
  },
  {
   "cell_type": "markdown",
   "id": "01eb3fe1",
   "metadata": {},
   "source": [
    "## Computing TF-IDF and Extracting Keywords"
   ]
  },
  {
   "cell_type": "code",
   "execution_count": 117,
   "id": "dab98c71",
   "metadata": {},
   "outputs": [],
   "source": [
    "def sort_coo(coo_matrix):\n",
    "    tuples = zip(coo_matrix.col, coo_matrix.data)\n",
    "    return sorted(tuples, key=lambda x: (x[1], x[0]), reverse=True)\n",
    "\n",
    "def extract_topn_from_vector(feature_names, sorted_items, topn=10):\n",
    "    \"\"\"get the feature names and tf-idf score of top n items\"\"\"\n",
    "    \n",
    "    # Use only the topn items from vector\n",
    "    sorted_items = sorted_items[:topn]\n",
    "\n",
    "    score_vals = []\n",
    "    feature_vals = []\n",
    "\n",
    "    for idx, score in sorted_items:\n",
    "        fname = feature_names[idx]\n",
    "        \n",
    "        # Keeping track of feature name and its corresponding score\n",
    "        score_vals.append(round(score, 3))\n",
    "        feature_vals.append(feature_names[idx])\n",
    "\n",
    "    # Create a tuples of feature and score\n",
    "    results= {}\n",
    "    for idx in range(len(feature_vals)):\n",
    "        results[feature_vals[idx]]=score_vals[idx]\n",
    "\n",
    "    return results"
   ]
  },
  {
   "cell_type": "code",
   "execution_count": 118,
   "id": "b47eb9a0",
   "metadata": {
    "scrolled": false
   },
   "outputs": [
    {
     "name": "stdout",
     "output_type": "stream",
     "text": [
      "\n",
      "=====Title=====\n",
      "LAW ENFORCEMENT ON HIGH ALERT Following Threats Against Cops And Whites On 9-11By #BlackLivesMatter And #FYF911 Terrorists [VIDEO]\n",
      "\n",
      "=====Body=====\n",
      "No comment is expected from Barack Obama Members of the #FYF911 or #FukYoFlag and #BlackLivesMatter movements called for the lynching and hanging of white people and cops. They encouraged others on a radio show Tuesday night to  turn the tide  and kill white people and cops to send a message about the killing of black people in America.One of the F***YoFlag organizers is called  Sunshine.  She has a radio blog show hosted from Texas called,  Sunshine s F***ing Opinion Radio Show. A snapshot of her #FYF911 @LOLatWhiteFear Twitter page at 9:53 p.m. shows that she was urging supporters to  Call now!! #fyf911 tonight we continue to dismantle the illusion of white Below is a SNAPSHOT Twitter Radio Call Invite   #FYF911The radio show aired at 10:00 p.m. eastern standard time.During the show, callers clearly call for  lynching  and  killing  of white people.A 2:39 minute clip from the radio show can be heard here. It was provided to Breitbart Texas by someone who would like to be referred to as  Hannibal.  He has already received death threats as a result of interrupting #FYF911 conference calls.An unidentified black man said  when those mother f**kers are by themselves, that s when when we should start f***ing them up. Like they do us, when a bunch of them ni**ers takin  one of us out, that s how we should roll up.  He said,  Cause we already roll up in gangs anyway. There should be six or seven black mother f**ckers, see that white person, and then lynch their ass. Let s turn the tables. They conspired that if  cops started losing people,  then  there will be a state of emergency. He speculated that one of two things would happen,  a big-ass [R s?????] war,  or  ni**ers, they are going to start backin  up. We are already getting killed out here so what the f**k we got to lose? Sunshine could be heard saying,  Yep, that s true. That s so f**king true. He said,  We need to turn the tables on them. Our kids are getting shot out here. Somebody needs to become a sacrifice on their side.He said,  Everybody ain t down for that s**t, or whatever, but like I say, everybody has a different position of war.  He continued,  Because they don t give a f**k anyway.  He said again,  We might as well utilized them for that s**t and turn the tables on these n**ers. He said, that way  we can start lookin  like we ain t havin  that many casualties, and there can be more causalities on their side instead of ours. They are out their killing black people, black lives don t matter, that s what those mother f**kers   so we got to make it matter to them. Find a mother f**ker that is alone. Snap his ass, and then f***in hang him from a damn tree. Take a picture of it and then send it to the mother f**kers. We  just need one example,  and  then people will start watchin .  This will turn the tables on s**t, he said. He said this will start  a trickle-down effect.  He said that when one white person is hung and then they are just  flat-hanging,  that will start the  trickle-down effect.  He continued,  Black people are good at starting trends. He said that was how  to get the upper-hand. Another black man spoke up saying they needed to kill  cops that are killing us. The first black male said,  That will be the best method right there. Breitbart Texas previously reported how Sunshine was upset when  racist white people  infiltrated and disrupted one of her conference calls. She subsequently released the phone number of one of the infiltrators. The veteran immediately started receiving threatening calls.One of the #F***YoFlag movement supporters allegedly told a veteran who infiltrated their publicly posted conference call,  We are going to rape and gut your pregnant wife, and your f***ing piece of sh*t unborn creature will be hung from a tree. Breitbart Texas previously encountered Sunshine at a Sandra Bland protest at the Waller County Jail in Texas, where she said all white people should be killed. She told journalists and photographers,  You see this nappy-ass hair on my head?   That means I am one of those more militant Negroes.  She said she was at the protest because  these redneck mother-f**kers murdered Sandra Bland because she had nappy hair like me. #FYF911 black radicals say they will be holding the  imperial powers  that are actually responsible for the terrorist attacks on September 11th accountable on that day, as reported by Breitbart Texas. There are several websites and Twitter handles for the movement. Palmetto Star  describes himself as one of the head organizers. He said in a YouTube video that supporters will be burning their symbols of  the illusion of their superiority,  their  false white supremacy,  like the American flag, the British flag, police uniforms, and Ku Klux Klan hoods.Sierra McGrone or  Nocturnus Libertus  posted,  you too can help a young Afrikan clean their a** with the rag of oppression.  She posted two photos, one that appears to be herself, and a photo of a black man, wiping their naked butts with the American flag.For entire story: Breitbart News\n",
      "\n",
      "===Keywords===\n",
      "sunshine 0.26\n",
      "black 0.246\n",
      "tables 0.188\n",
      "radio 0.182\n",
      "mother 0.181\n",
      "texas 0.172\n",
      "ass 0.163\n",
      "cops 0.16\n",
      "white 0.16\n",
      "breitbart 0.15\n",
      "start 0.15\n",
      "said 0.14\n",
      "ing 0.139\n",
      "one 0.134\n",
      "turn 0.131\n"
     ]
    }
   ],
   "source": [
    "# Getting the feature names out using cv initialized earlier\n",
    "feature_names=cv.get_feature_names_out()\n",
    "\n",
    "# Get the document that I want to extract keywords from\n",
    "doc = docs[0]\n",
    "\n",
    "# Generate tf-idf for the given document\n",
    "tf_idf_vector = tfidf_transformer.transform(cv.transform([doc]))\n",
    "\n",
    "# Sort the tf-idf vectors by descending order of scores\n",
    "sorted_items = sort_coo(tf_idf_vector.tocoo())\n",
    "\n",
    "# Extract only the top n; n here is 10\n",
    "keywords=extract_topn_from_vector(feature_names,sorted_items,15)\n",
    "\n",
    "# Print the results\n",
    "print(\"\\n=====Title=====\")\n",
    "print(docs_title[0])\n",
    "print(\"\\n=====Body=====\")\n",
    "print(docs_text[0])\n",
    "print(\"\\n===Keywords===\")\n",
    "for k in keywords:\n",
    "    print(k,keywords[k])"
   ]
  },
  {
   "cell_type": "markdown",
   "id": "569e1cfa",
   "metadata": {},
   "source": [
    "## Attempted To Do Web Scrapping"
   ]
  },
  {
   "cell_type": "code",
   "execution_count": 119,
   "id": "0265151d",
   "metadata": {
    "scrolled": true
   },
   "outputs": [
    {
     "name": "stdout",
     "output_type": "stream",
     "text": [
      "Title: \n",
      "What does the \"yield\" keyword do in Python?\n",
      "\n",
      "Comments:\n",
      "- What is the use of the yield keyword in Python? What does it do?\n",
      "For example, I'm trying to understand this code1:\n",
      "def _get_child_candidates(self, distance, min_dist, max_dist):\n",
      "    if self._leftchild ...\n",
      "\n",
      "\n",
      "Title: \n",
      "What does if __name__ == \"__main__\": do?\n",
      "\n",
      "Comments:\n",
      "- What does this do, and why should one include the if statement?\n",
      "if __name__ == \"__main__\":\n",
      "    print(\"Hello, World!\")\r\n",
      "If you are trying to close a question where someone should be ...\n",
      "\n",
      "\n",
      "Title: \n",
      "Does Python have a ternary conditional operator?\n",
      "\n",
      "Comments:\n",
      "- Is there a ternary conditional operator in Python?\n",
      "\n",
      "\n",
      "Title: \n",
      "What are metaclasses in Python?\n",
      "\n",
      "Comments:\n",
      "- What are metaclasses? What are they used for?\n",
      "\n",
      "\n",
      "Title: \n",
      "How do I check whether a file exists without exceptions?\n",
      "\n",
      "Comments:\n",
      "- How do I check whether a file exists or not, without using the try statement?\n",
      "\n",
      "\n",
      "Title: \n",
      "How do I merge two dictionaries in a single expression in Python?\n",
      "\n",
      "Comments:\n",
      "- I want to merge two dictionaries into a new dictionary.\n",
      "x = {'a': 1, 'b': 2}\n",
      "y = {'b': 3, 'c': 4}\n",
      "z = merge(x, y)\n",
      "\n",
      ">>> z\n",
      "{'a': 1, 'b': 3, 'c': 4}\n",
      "\n",
      "Whenever a key k is present in both ...\n",
      "\n",
      "\n",
      "Title: \n",
      "How do I execute a program or call a system command?\n",
      "\n",
      "Comments:\n",
      "- How do I call an external command within Python as if I had typed it in a shell or command prompt?\n",
      "\n",
      "\n",
      "Title: \n",
      "How do I create a directory, and any missing parent directories?\n",
      "\n",
      "Comments:\n",
      "- How do I create a directory at a given path, and also create any missing parent directories along that path? For example, the Bash command mkdir -p /path/to/nested/directory does this.\n",
      "\n",
      "\n",
      "Title: \n",
      "Accessing the index in 'for' loops\n",
      "\n",
      "Comments:\n",
      "- How do I access the index while iterating over a sequence with a for loop?\n",
      "xs = [8, 23, 45]\n",
      "\n",
      "for x in xs:\n",
      "    print(\"item #{} = {}\".format(index, x))\n",
      "\n",
      "Desired output:\n",
      "item #1 = 8\n",
      "item #2 = ...\n",
      "\n",
      "\n",
      "Title: \n",
      "How do I make a flat list out of a list of lists?\n",
      "\n",
      "Comments:\n",
      "- I have a list of lists like\n",
      "[\n",
      "    [1, 2, 3],\n",
      "    [4, 5, 6],\n",
      "    [7],\n",
      "    [8, 9]\n",
      "]\n",
      "\n",
      "How can I flatten it to get [1, 2, 3, 4, 5, 6, 7, 8, 9]?\n",
      "\n",
      "If your list of lists comes from a nested list ...\n",
      "\n",
      "\n",
      "Title: \n",
      "@staticmethod vs @classmethod in Python\n",
      "\n",
      "Comments:\n",
      "- What is the difference between a method decorated with @staticmethod and one decorated with @classmethod?\n",
      "\n",
      "\n",
      "Title: \n",
      "How slicing in Python works\n",
      "\n",
      "Comments:\n",
      "- How does Python's slice notation work? That is: when I write code like a[x:y:z], a[:], a[::2] etc., how can I understand which elements end up in the slice? Please include references where appropriate....\n",
      "\n",
      "\n",
      "Title: \n",
      "Finding the index of an item in a list\n",
      "\n",
      "Comments:\n",
      "- Given a list [\"foo\", \"bar\", \"baz\"] and an item in the list \"bar\", how do I get its index 1?\n",
      "\n",
      "\n",
      "Title: \n",
      "Iterating over dictionaries using 'for' loops\n",
      "\n",
      "Comments:\n",
      "- d = {'x': 1, 'y': 2, 'z': 3}\n",
      "\n",
      "for key in d:\n",
      "    print(key, 'corresponds to', d[key])\n",
      "\n",
      "How does Python recognize that it needs only to read the key from the dictionary? Is key a special keyword, or is ...\n",
      "\n",
      "\n",
      "Title: \n",
      "How to iterate over rows in a DataFrame in Pandas\n",
      "\n",
      "Comments:\n",
      "- I have a pandas dataframe, df:\n",
      "   c1   c2\n",
      "0  10  100\n",
      "1  11  110\n",
      "2  12  120\n",
      "\n",
      "How do I iterate over the rows of this dataframe? For every row, I want to access its elements (values in cells) by the name ...\n",
      "\n",
      "\n",
      "Title: \n",
      "Using global variables in a function\n",
      "\n",
      "Comments:\n",
      "- How do I create or use a global variable inside a function?\n",
      "How do I use a global variable that was defined in one function inside other functions?\n",
      "\n",
      "Failing to use the global keyword where appropriate ...\n",
      "\n",
      "\n",
      "Title: \n",
      "How do I get the current time?\n",
      "\n",
      "Comments:\n",
      "- How do I get the current time?\n",
      "\n",
      "\n",
      "Title: \n",
      "Catch multiple exceptions in one line (except block)\n",
      "\n",
      "Comments:\n",
      "- I know that I can do:\n",
      "try:\n",
      "    # do something that may fail\n",
      "except:\n",
      "    # do this if ANYTHING goes wrong\n",
      "\n",
      "I can also do this:\n",
      "try:\n",
      "    # do something that may fail\n",
      "except IDontLikeYouException:\n",
      "    # ...\n",
      "\n",
      "\n",
      "Title: \n",
      "How to copy files\n",
      "\n",
      "Comments:\n",
      "- How do I copy a file in Python?\n",
      "\n",
      "\n",
      "Title: \n",
      "Convert bytes to a string in Python 3\n",
      "\n",
      "Comments:\n",
      "- I captured the standard output of an external program into a bytes object:\n",
      ">>> from subprocess import *\n",
      ">>> stdout = Popen(['ls', '-l'], stdout=PIPE).communicate()[0]\n",
      ">>> ...\n",
      "\n",
      "\n",
      "Title: \n",
      "What is the difference between __str__ and __repr__?\n",
      "\n",
      "Comments:\n",
      "- What is the difference between __str__ and __repr__ in Python?\n",
      "\n",
      "\n",
      "Title: \n",
      "What is __init__.py for?\n",
      "\n",
      "Comments:\n",
      "- What is __init__.py for in a Python source directory?\n",
      "\n",
      "\n",
      "Title: \n",
      "Does Python have a string 'contains' substring method?\n",
      "\n",
      "Comments:\n",
      "- I'm looking for a string.contains or string.indexof method in Python.\n",
      "\n",
      "I want to do:\n",
      "\n",
      "if not somestring.contains(\"blah\"):\n",
      "   continue\n",
      "\n",
      "\n",
      "Title: \n",
      "How can I add new keys to a dictionary?\n",
      "\n",
      "Comments:\n",
      "- How do I add a new key to an existing dictionary? It doesn't have an .add() method.\n",
      "\n",
      "\n",
      "Title: \n",
      "How do I list all files of a directory?\n",
      "\n",
      "Comments:\n",
      "- How can I list all files of a directory in Python and add them to a list?\n",
      "\n",
      "\n",
      "Title: \n",
      "How do I select rows from a DataFrame based on column values?\n",
      "\n",
      "Comments:\n",
      "- How can I select rows from a DataFrame based on values in some column in Pandas?\n",
      "In SQL, I would use:\n",
      "SELECT *\n",
      "FROM table\n",
      "WHERE column_name = some_value\n",
      "\n",
      "\n",
      "Title: \n",
      "How do I sort a dictionary by value?\n",
      "\n",
      "Comments:\n",
      "- I have a dictionary of values read from two fields in a database: a string field and a numeric field. The string field is unique, so that is the key of the dictionary.\n",
      "\n",
      "I can sort on the keys, but how ...\n",
      "\n",
      "\n",
      "Title: \n",
      "\"Least Astonishment\" and the Mutable Default Argument\n",
      "\n",
      "Comments:\n",
      "- Anyone tinkering with Python long enough has been bitten (or torn to pieces) by the following issue:\n",
      "def foo(a=[]):\n",
      "    a.append(5)\n",
      "    return a\n",
      "\n",
      "Python novices would expect this function called with ...\n",
      "\n",
      "\n",
      "Title: \n",
      "What does ** (double star/asterisk) and * (star/asterisk) do for parameters?\n",
      "\n",
      "Comments:\n",
      "- What do *args and **kwargs mean in these function definitions?\n",
      "def foo(x, y, *args):\n",
      "    pass\n",
      "\n",
      "def bar(x, y, **kwargs):\n",
      "    pass\r\n",
      "See What do ** (double star/asterisk) and * (star/asterisk) mean in a ...\n",
      "\n",
      "\n",
      "Title: \n",
      "How can I delete a file or folder in Python?\n",
      "\n",
      "Comments:\n",
      "- How can I delete a file or folder in Python?\n",
      "\n",
      "\n",
      "Title: \n",
      "How do I pass a variable by reference?\n",
      "\n",
      "Comments:\n",
      "- I wrote this class for testing:\n",
      "class PassByReference:\n",
      "    def __init__(self):\n",
      "        self.variable = 'Original'\n",
      "        self.change(self.variable)\n",
      "        print(self.variable)\n",
      "\n",
      "    def change(self, ...\n",
      "\n",
      "\n",
      "Title: \n",
      "How do I clone a list so that it doesn't change unexpectedly after assignment?\n",
      "\n",
      "Comments:\n",
      "- While using new_list = my_list, any modifications to new_list changes my_list every time. Why is this, and how can I clone or copy the list to prevent it?\n",
      "\n",
      "\n",
      "Title: \n",
      "How do I concatenate two lists in Python?\n",
      "\n",
      "Comments:\n",
      "- How do I concatenate two lists in Python?\n",
      "\n",
      "Example:\n",
      "\n",
      "listone = [1, 2, 3]\n",
      "listtwo = [4, 5, 6]\r\n",
      "Expected outcome:\n",
      "\n",
      ">>> joinedlist\n",
      "[1, 2, 3, 4, 5, 6]\n",
      "\n",
      "\n",
      "Title: \n",
      "How do I check if a list is empty?\n",
      "\n",
      "Comments:\n",
      "- For example, if passed the following:\n",
      "\n",
      "a = []\r\n",
      "How do I check to see if a is empty?\n",
      "\n",
      "\n",
      "Title: \n",
      "Understanding Python super() with __init__() methods [duplicate]\n",
      "\n",
      "Comments:\n",
      "- Why is super() used?\n",
      "Is there a difference between using Base.__init__ and super().__init__?\n",
      "class Base(object):\n",
      "    def __init__(self):\n",
      "        print \"Base created\"\n",
      "        \n",
      "class ChildA(...\n",
      "\n",
      "\n",
      "Title: \n",
      "How do I make a time delay? [duplicate]\n",
      "\n",
      "Comments:\n",
      "- How do I put a time delay in a Python script?\n",
      "\n",
      "\n",
      "Title: \n",
      "Manually raising (throwing) an exception in Python\n",
      "\n",
      "Comments:\n",
      "- How do I raise an exception in Python so that it can later be caught via an except block?\n",
      "\n",
      "\n",
      "Title: \n",
      "How do I change the size of figures drawn with Matplotlib?\n",
      "\n",
      "Comments:\n",
      "- How do I change the size of figure drawn with Matplotlib?\n",
      "\n",
      "\n",
      "Title: \n",
      "How can I access environment variables in Python?\n",
      "\n",
      "Comments:\n",
      "- How can I get the value of an environment variable in Python?\n",
      "\n",
      "\n",
      "Title: \n",
      "How do I make function decorators and chain them together?\n",
      "\n",
      "Comments:\n",
      "- How do I make two decorators in Python that would do the following?\n",
      "@make_bold\n",
      "@make_italic\n",
      "def say():\n",
      "   return \"Hello\"\n",
      "\n",
      "Calling say() should return:\n",
      "\"<b><i>Hello</i>&...\n",
      "\n",
      "\n",
      "Title: \n",
      "How do I print colored text to the terminal?\n",
      "\n",
      "Comments:\n",
      "- How do I output colored text to the terminal in Python?\n",
      "\n",
      "\n",
      "Title: \n",
      "What is the difference between Python's list methods append and extend?\n",
      "\n",
      "Comments:\n",
      "- What's the difference between the list methods append() and extend()?\n",
      "\n",
      "\n",
      "Title: \n",
      "How do I split a list into equally-sized chunks?\n",
      "\n",
      "Comments:\n",
      "- How do I split a list of arbitrary length into equal sized chunks?\n",
      "\n",
      "See also: How to iterate over a list in chunks.\n",
      "To chunk strings, see Split string every nth character?.\n",
      "\n",
      "\n",
      "Title: \n",
      "Why is \"1000000000000000 in range(1000000000000001)\" so fast in Python 3?\n",
      "\n",
      "Comments:\n",
      "- It is my understanding that the range() function, which is actually an object type in Python 3, generates its contents on the fly, similar to a generator.\n",
      "This being the case, I would have expected ...\n",
      "\n",
      "\n",
      "Title: \n",
      "Find the current directory and file's directory [duplicate]\n",
      "\n",
      "Comments:\n",
      "- How do I determine:\n",
      "\n",
      "the current directory (where I was in the shell when I ran the Python script), and\n",
      "where the Python file I am executing is?\n",
      "\n",
      "\n",
      "Title: \n",
      "Convert string \"Jun 1 2005 1:33PM\" into datetime\n",
      "\n",
      "Comments:\n",
      "- I have a huge list of datetime strings like the following\n",
      "[\"Jun 1 2005 1:33PM\", \"Aug 28 1999 12:00AM\"]\n",
      "\n",
      "How do I convert them into datetime objects?\n",
      "\n",
      "\n",
      "Title: \n",
      "Renaming column names in Pandas\n",
      "\n",
      "Comments:\n",
      "- I want to change the column labels of a Pandas DataFrame from\n",
      "['$a', '$b', '$c', '$d', '$e']\n",
      "\n",
      "to\n",
      "['a', 'b', 'c', 'd', 'e']\n",
      "\n",
      "\n",
      "Title: \n",
      "How can I remove a key from a Python dictionary?\n",
      "\n",
      "Comments:\n",
      "- I want to remove a key from a dictionary if it is present. I currently use this code:\n",
      "if key in my_dict:\n",
      "    del my_dict[key]\n",
      "\n",
      "Without the if statement, the code will raise KeyError if the key is not ...\n",
      "\n",
      "\n",
      "Title: \n",
      "How to sort a list of dictionaries by a value of the dictionary in Python?\n",
      "\n",
      "Comments:\n",
      "- How do I sort a list of dictionaries by a specific key's value? Given:\n",
      "[{'name': 'Homer', 'age': 39}, {'name': 'Bart', 'age': 10}]\n",
      "\n",
      "When sorted by name, it should become:\n",
      "[{'name': 'Bart', 'age': 10}, ...\n",
      "\n",
      "\n",
      "Title: \n",
      "How do I install pip on Windows?\n",
      "\n",
      "Comments:\n",
      "- pip is a replacement for easy_install. But should I install pip using easy_install on Windows? Is there a better way?\n",
      "\n",
      "\n"
     ]
    }
   ],
   "source": [
    "import requests\n",
    "from bs4 import BeautifulSoup\n",
    "\n",
    "# URL of the Stack Overflow page for the \"python\" tag sorted by votes\n",
    "url = \"https://stackoverflow.com/questions/tagged/python?tab=Votes\"\n",
    "\n",
    "# Send an HTTP GET request to the URL\n",
    "response = requests.get(url)\n",
    "\n",
    "# Parse the HTML content\n",
    "soup = BeautifulSoup(response.text, \"html.parser\")\n",
    "\n",
    "# Find all the question summary elements through finding their class name\n",
    "question_summaries = soup.find_all(class_=\"s-post-summary js-post-summary\")\n",
    "\n",
    "# Created a For Loop to loop through the question summaries and extract information\n",
    "for summary in question_summaries:\n",
    "    # Extract question title\n",
    "    title_element = summary.find(class_=\"s-post-summary--content-title\")\n",
    "    title = title_element.text\n",
    "\n",
    "    # Print question details\n",
    "    print(\"Title:\", title)\n",
    "\n",
    "    # Find and extract comments\n",
    "    comments = summary.find_all(class_=\"s-post-summary--content\")\n",
    "    if comments:\n",
    "        print(\"Comments:\")\n",
    "        for comment in comments:\n",
    "            comment_text = comment.find(class_=\"s-post-summary--content-excerpt\").text.strip()\n",
    "            print(\"- \" + comment_text)\n",
    "\n",
    "    print(\"\\n\")"
   ]
  },
  {
   "cell_type": "markdown",
   "id": "68dc1553",
   "metadata": {},
   "source": [
    "## Deployment of Model - Using Streamlit"
   ]
  }
 ],
 "metadata": {
  "kernelspec": {
   "display_name": "Python 3 (ipykernel)",
   "language": "python",
   "name": "python3"
  },
  "language_info": {
   "codemirror_mode": {
    "name": "ipython",
    "version": 3
   },
   "file_extension": ".py",
   "mimetype": "text/x-python",
   "name": "python",
   "nbconvert_exporter": "python",
   "pygments_lexer": "ipython3",
   "version": "3.11.4"
  }
 },
 "nbformat": 4,
 "nbformat_minor": 5
}
